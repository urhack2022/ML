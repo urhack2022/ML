{
 "cells": [
  {
   "cell_type": "code",
   "execution_count": null,
   "id": "7e35d825-b30c-4eab-910e-0d3ac305af7b",
   "metadata": {},
   "outputs": [],
   "source": [
    "!unzip hacka-aka-embedika.zip"
   ]
  },
  {
   "cell_type": "code",
   "execution_count": null,
   "id": "4dd0a862-14a4-4ac5-91c4-c022bb6d6e1c",
   "metadata": {},
   "outputs": [],
   "source": [
    "!sudo apt-get update\n",
    "!sudo apt-get install python-dev libxml2-dev libxslt1-dev antiword unrtf poppler-utils pstotext tesseract-ocr \\\n",
    "flac ffmpeg lame libmad0 libsox-fmt-mp3 sox libjpeg-dev swig libpulse-dev"
   ]
  },
  {
   "cell_type": "code",
   "execution_count": 1,
   "id": "b4bc2786-8205-43ed-9e76-80c0c416a729",
   "metadata": {
    "collapsed": true,
    "jupyter": {
     "outputs_hidden": true
    },
    "tags": []
   },
   "outputs": [
    {
     "name": "stdout",
     "output_type": "stream",
     "text": [
      "Collecting textract\n",
      "  Downloading textract-1.6.5-py3-none-any.whl (23 kB)\n",
      "Collecting imbalanced-learn\n",
      "  Downloading imbalanced_learn-0.10.0-py3-none-any.whl (225 kB)\n",
      "\u001b[2K     \u001b[90m━━━━━━━━━━━━━━━━━━━━━━━━━━━━━━━━━━━━━━\u001b[0m \u001b[32m225.4/225.4 kB\u001b[0m \u001b[31m45.9 MB/s\u001b[0m eta \u001b[36m0:00:00\u001b[0m\n",
      "\u001b[?25hRequirement already satisfied: chardet==3.* in /usr/lib/python3/dist-packages (from textract) (3.0.4)\n",
      "Collecting argcomplete~=1.10.0\n",
      "  Downloading argcomplete-1.10.3-py2.py3-none-any.whl (36 kB)\n",
      "Collecting beautifulsoup4~=4.8.0\n",
      "  Downloading beautifulsoup4-4.8.2-py3-none-any.whl (106 kB)\n",
      "\u001b[2K     \u001b[90m━━━━━━━━━━━━━━━━━━━━━━━━━━━━━━━━━━━━━━\u001b[0m \u001b[32m106.9/106.9 kB\u001b[0m \u001b[31m37.7 MB/s\u001b[0m eta \u001b[36m0:00:00\u001b[0m\n",
      "\u001b[?25hCollecting pdfminer.six==20191110\n",
      "  Downloading pdfminer.six-20191110-py2.py3-none-any.whl (5.6 MB)\n",
      "\u001b[2K     \u001b[90m━━━━━━━━━━━━━━━━━━━━━━━━━━━━━━━━━━━━━━━━\u001b[0m \u001b[32m5.6/5.6 MB\u001b[0m \u001b[31m41.9 MB/s\u001b[0m eta \u001b[36m0:00:00\u001b[0ma \u001b[36m0:00:01\u001b[0mm\n",
      "\u001b[?25hCollecting six~=1.12.0\n",
      "  Downloading six-1.12.0-py2.py3-none-any.whl (10 kB)\n",
      "Collecting SpeechRecognition~=3.8.1\n",
      "  Downloading SpeechRecognition-3.8.1-py2.py3-none-any.whl (32.8 MB)\n",
      "\u001b[2K     \u001b[90m━━━━━━━━━━━━━━━━━━━━━━━━━━━━━━━━━━━━━━━━\u001b[0m \u001b[32m32.8/32.8 MB\u001b[0m \u001b[31m53.5 MB/s\u001b[0m eta \u001b[36m0:00:00\u001b[0m00:01\u001b[0m00:01\u001b[0m\n",
      "\u001b[?25hCollecting xlrd~=1.2.0\n",
      "  Downloading xlrd-1.2.0-py2.py3-none-any.whl (103 kB)\n",
      "\u001b[2K     \u001b[90m━━━━━━━━━━━━━━━━━━━━━━━━━━━━━━━━━━━━━━\u001b[0m \u001b[32m103.3/103.3 kB\u001b[0m \u001b[31m32.3 MB/s\u001b[0m eta \u001b[36m0:00:00\u001b[0m\n",
      "\u001b[?25hCollecting python-pptx~=0.6.18\n",
      "  Downloading python-pptx-0.6.21.tar.gz (10.1 MB)\n",
      "\u001b[2K     \u001b[90m━━━━━━━━━━━━━━━━━━━━━━━━━━━━━━━━━━━━━━━━\u001b[0m \u001b[32m10.1/10.1 MB\u001b[0m \u001b[31m73.6 MB/s\u001b[0m eta \u001b[36m0:00:00\u001b[0m00:01\u001b[0m00:01\u001b[0m\n",
      "\u001b[?25h  Preparing metadata (setup.py) ... \u001b[?25ldone\n",
      "\u001b[?25hCollecting docx2txt~=0.8\n",
      "  Downloading docx2txt-0.8.tar.gz (2.8 kB)\n",
      "  Preparing metadata (setup.py) ... \u001b[?25ldone\n",
      "\u001b[?25hCollecting extract-msg<=0.29.*\n",
      "  Downloading extract_msg-0.28.7-py2.py3-none-any.whl (69 kB)\n",
      "\u001b[2K     \u001b[90m━━━━━━━━━━━━━━━━━━━━━━━━━━━━━━━━━━━━━━━━\u001b[0m \u001b[32m69.0/69.0 kB\u001b[0m \u001b[31m18.9 MB/s\u001b[0m eta \u001b[36m0:00:00\u001b[0m\n",
      "\u001b[?25hCollecting sortedcontainers\n",
      "  Downloading sortedcontainers-2.4.0-py2.py3-none-any.whl (29 kB)\n",
      "Collecting pycryptodome\n",
      "  Downloading pycryptodome-3.16.0-cp35-abi3-manylinux_2_5_x86_64.manylinux1_x86_64.manylinux_2_12_x86_64.manylinux2010_x86_64.whl (2.3 MB)\n",
      "\u001b[2K     \u001b[90m━━━━━━━━━━━━━━━━━━━━━━━━━━━━━━━━━━━━━━━━\u001b[0m \u001b[32m2.3/2.3 MB\u001b[0m \u001b[31m75.7 MB/s\u001b[0m eta \u001b[36m0:00:00\u001b[0m\n",
      "\u001b[?25hRequirement already satisfied: threadpoolctl>=2.0.0 in /usr/local/lib/python3.9/dist-packages (from imbalanced-learn) (3.1.0)\n",
      "Collecting joblib>=1.1.1\n",
      "  Downloading joblib-1.2.0-py3-none-any.whl (297 kB)\n",
      "\u001b[2K     \u001b[90m━━━━━━━━━━━━━━━━━━━━━━━━━━━━━━━━━━━━━━\u001b[0m \u001b[32m298.0/298.0 kB\u001b[0m \u001b[31m30.8 MB/s\u001b[0m eta \u001b[36m0:00:00\u001b[0m\n",
      "\u001b[?25hRequirement already satisfied: numpy>=1.17.3 in /usr/local/lib/python3.9/dist-packages (from imbalanced-learn) (1.23.1)\n",
      "Requirement already satisfied: scipy>=1.3.2 in /usr/local/lib/python3.9/dist-packages (from imbalanced-learn) (1.8.1)\n",
      "Requirement already satisfied: scikit-learn>=1.0.2 in /usr/local/lib/python3.9/dist-packages (from imbalanced-learn) (1.1.1)\n",
      "Requirement already satisfied: soupsieve>=1.2 in /usr/local/lib/python3.9/dist-packages (from beautifulsoup4~=4.8.0->textract) (2.3.2.post1)\n",
      "Collecting compressed-rtf>=1.0.6\n",
      "  Downloading compressed_rtf-1.0.6.tar.gz (5.8 kB)\n",
      "  Preparing metadata (setup.py) ... \u001b[?25ldone\n",
      "\u001b[?25hCollecting ebcdic>=1.1.1\n",
      "  Downloading ebcdic-1.1.1-py2.py3-none-any.whl (128 kB)\n",
      "\u001b[2K     \u001b[90m━━━━━━━━━━━━━━━━━━━━━━━━━━━━━━━━━━━━━━\u001b[0m \u001b[32m128.5/128.5 kB\u001b[0m \u001b[31m36.3 MB/s\u001b[0m eta \u001b[36m0:00:00\u001b[0m\n",
      "\u001b[?25hCollecting tzlocal>=2.1\n",
      "  Downloading tzlocal-4.2-py3-none-any.whl (19 kB)\n",
      "Collecting olefile>=0.46\n",
      "  Downloading olefile-0.46.zip (112 kB)\n",
      "\u001b[2K     \u001b[90m━━━━━━━━━━━━━━━━━━━━━━━━━━━━━━━━━━━━━━\u001b[0m \u001b[32m112.2/112.2 kB\u001b[0m \u001b[31m36.9 MB/s\u001b[0m eta \u001b[36m0:00:00\u001b[0m\n",
      "\u001b[?25h  Preparing metadata (setup.py) ... \u001b[?25ldone\n",
      "\u001b[?25hCollecting imapclient==2.1.0\n",
      "  Downloading IMAPClient-2.1.0-py2.py3-none-any.whl (73 kB)\n",
      "\u001b[2K     \u001b[90m━━━━━━━━━━━━━━━━━━━━━━━━━━━━━━━━━━━━━━━━\u001b[0m \u001b[32m74.0/74.0 kB\u001b[0m \u001b[31m27.0 MB/s\u001b[0m eta \u001b[36m0:00:00\u001b[0m\n",
      "\u001b[?25hRequirement already satisfied: lxml>=3.1.0 in /usr/lib/python3/dist-packages (from python-pptx~=0.6.18->textract) (4.5.0)\n",
      "Requirement already satisfied: Pillow>=3.3.2 in /usr/local/lib/python3.9/dist-packages (from python-pptx~=0.6.18->textract) (9.2.0)\n",
      "Collecting XlsxWriter>=0.5.7\n",
      "  Downloading XlsxWriter-3.0.3-py3-none-any.whl (149 kB)\n",
      "\u001b[2K     \u001b[90m━━━━━━━━━━━━━━━━━━━━━━━━━━━━━━━━━━━━━━\u001b[0m \u001b[32m150.0/150.0 kB\u001b[0m \u001b[31m45.7 MB/s\u001b[0m eta \u001b[36m0:00:00\u001b[0m\n",
      "\u001b[?25hCollecting pytz-deprecation-shim\n",
      "  Downloading pytz_deprecation_shim-0.1.0.post0-py2.py3-none-any.whl (15 kB)\n",
      "Collecting tzdata\n",
      "  Downloading tzdata-2022.7-py2.py3-none-any.whl (340 kB)\n",
      "\u001b[2K     \u001b[90m━━━━━━━━━━━━━━━━━━━━━━━━━━━━━━━━━━━━━━\u001b[0m \u001b[32m340.1/340.1 kB\u001b[0m \u001b[31m38.7 MB/s\u001b[0m eta \u001b[36m0:00:00\u001b[0m\n",
      "\u001b[?25hBuilding wheels for collected packages: docx2txt, python-pptx, compressed-rtf, olefile\n",
      "  Building wheel for docx2txt (setup.py) ... \u001b[?25ldone\n",
      "\u001b[?25h  Created wheel for docx2txt: filename=docx2txt-0.8-py3-none-any.whl size=3959 sha256=93da7a3228f4c4f35db37a18fcf735b2526edc572199de884d82f72d33d0d97c\n",
      "  Stored in directory: /root/.cache/pip/wheels/40/75/01/e6c444034338bde9c7947d3467807f889123465c2371e77418\n",
      "  Building wheel for python-pptx (setup.py) ... \u001b[?25ldone\n",
      "\u001b[?25h  Created wheel for python-pptx: filename=python_pptx-0.6.21-py3-none-any.whl size=470935 sha256=c1c24002b6c6da8f25cd93a4da212dc180a6b1413e0f8f1eb8ff94307e063657\n",
      "  Stored in directory: /root/.cache/pip/wheels/0e/4a/ed/9653bc799915f52dce3f04d14946fbd85cce9c3cdedc9cfa71\n",
      "  Building wheel for compressed-rtf (setup.py) ... \u001b[?25ldone\n",
      "\u001b[?25h  Created wheel for compressed-rtf: filename=compressed_rtf-1.0.6-py3-none-any.whl size=6185 sha256=91a291884d1bb0a4a951038eb72dd6b279f71836a1ef36c27f0017d06b855254\n",
      "  Stored in directory: /root/.cache/pip/wheels/e4/67/e4/ba2159853bdd0fe99330aa1e384915108143a5370686ea446f\n",
      "  Building wheel for olefile (setup.py) ... \u001b[?25ldone\n",
      "\u001b[?25h  Created wheel for olefile: filename=olefile-0.46-py2.py3-none-any.whl size=35416 sha256=64c400bde1f02592d968b95653ec6e58230a6cce8d03c03b99d31aa90af30787\n",
      "  Stored in directory: /root/.cache/pip/wheels/64/b8/ba/ebba30390fbd997074f35e42a842ce3fd933213cac8753414e\n",
      "Successfully built docx2txt python-pptx compressed-rtf olefile\n",
      "Installing collected packages: SpeechRecognition, sortedcontainers, ebcdic, docx2txt, compressed-rtf, argcomplete, XlsxWriter, xlrd, tzdata, six, pycryptodome, olefile, joblib, beautifulsoup4, pytz-deprecation-shim, python-pptx, pdfminer.six, imapclient, tzlocal, imbalanced-learn, extract-msg, textract\n",
      "  Attempting uninstall: xlrd\n",
      "    Found existing installation: xlrd 1.1.0\n",
      "    Uninstalling xlrd-1.1.0:\n",
      "      Successfully uninstalled xlrd-1.1.0\n",
      "  Attempting uninstall: six\n",
      "    Found existing installation: six 1.14.0\n",
      "    Uninstalling six-1.14.0:\n",
      "      Successfully uninstalled six-1.14.0\n",
      "  Attempting uninstall: joblib\n",
      "    Found existing installation: joblib 1.1.0\n",
      "    Uninstalling joblib-1.1.0:\n",
      "      Successfully uninstalled joblib-1.1.0\n",
      "  Attempting uninstall: beautifulsoup4\n",
      "    Found existing installation: beautifulsoup4 4.11.1\n",
      "    Uninstalling beautifulsoup4-4.11.1:\n",
      "      Successfully uninstalled beautifulsoup4-4.11.1\n",
      "Successfully installed SpeechRecognition-3.8.1 XlsxWriter-3.0.3 argcomplete-1.10.3 beautifulsoup4-4.8.2 compressed-rtf-1.0.6 docx2txt-0.8 ebcdic-1.1.1 extract-msg-0.28.7 imapclient-2.1.0 imbalanced-learn-0.10.0 joblib-1.2.0 olefile-0.46 pdfminer.six-20191110 pycryptodome-3.16.0 python-pptx-0.6.21 pytz-deprecation-shim-0.1.0.post0 six-1.12.0 sortedcontainers-2.4.0 textract-1.6.5 tzdata-2022.7 tzlocal-4.2 xlrd-1.2.0\n",
      "\u001b[33mWARNING: Running pip as the 'root' user can result in broken permissions and conflicting behaviour with the system package manager. It is recommended to use a virtual environment instead: https://pip.pypa.io/warnings/venv\u001b[0m\u001b[33m\n",
      "\u001b[0m"
     ]
    }
   ],
   "source": [
    "!pip3 install textract imbalanced-learn "
   ]
  },
  {
   "cell_type": "code",
   "execution_count": 2,
   "id": "7d4c062d-f480-463a-a3ce-a6571558bd22",
   "metadata": {},
   "outputs": [],
   "source": [
    "import pandas as pd\n",
    "from pathlib import Path\n",
    "import textract\n",
    "from tqdm import tqdm\n",
    "tqdm.pandas()\n",
    "import re\n",
    "import numpy as np\n",
    "import seaborn as sns\n",
    "\n",
    "device='cuda'"
   ]
  },
  {
   "cell_type": "code",
   "execution_count": 3,
   "id": "7cb189ec-e4db-4383-9ec5-a70da4b834d5",
   "metadata": {
    "collapsed": true,
    "jupyter": {
     "outputs_hidden": true
    },
    "tags": []
   },
   "outputs": [
    {
     "name": "stderr",
     "output_type": "stream",
     "text": [
      "0it [00:00, ?it/s]/tmp/ipykernel_78/1540328009.py:10: SettingWithCopyWarning: \n",
      "A value is trying to be set on a copy of a slice from a DataFrame\n",
      "\n",
      "See the caveats in the documentation: https://pandas.pydata.org/pandas-docs/stable/user_guide/indexing.html#returning-a-view-versus-a-copy\n",
      "  df['original_text'].loc[i] = text.decode('utf-8')\n",
      "1it [00:00,  5.45it/s]/tmp/ipykernel_78/1540328009.py:10: SettingWithCopyWarning: \n",
      "A value is trying to be set on a copy of a slice from a DataFrame\n",
      "\n",
      "See the caveats in the documentation: https://pandas.pydata.org/pandas-docs/stable/user_guide/indexing.html#returning-a-view-versus-a-copy\n",
      "  df['original_text'].loc[i] = text.decode('utf-8')\n",
      "2it [00:00,  6.65it/s]/tmp/ipykernel_78/1540328009.py:10: SettingWithCopyWarning: \n",
      "A value is trying to be set on a copy of a slice from a DataFrame\n",
      "\n",
      "See the caveats in the documentation: https://pandas.pydata.org/pandas-docs/stable/user_guide/indexing.html#returning-a-view-versus-a-copy\n",
      "  df['original_text'].loc[i] = text.decode('utf-8')\n",
      "5it [00:00, 14.45it/s]/tmp/ipykernel_78/1540328009.py:10: SettingWithCopyWarning: \n",
      "A value is trying to be set on a copy of a slice from a DataFrame\n",
      "\n",
      "See the caveats in the documentation: https://pandas.pydata.org/pandas-docs/stable/user_guide/indexing.html#returning-a-view-versus-a-copy\n",
      "  df['original_text'].loc[i] = text.decode('utf-8')\n",
      "/tmp/ipykernel_78/1540328009.py:10: SettingWithCopyWarning: \n",
      "A value is trying to be set on a copy of a slice from a DataFrame\n",
      "\n",
      "See the caveats in the documentation: https://pandas.pydata.org/pandas-docs/stable/user_guide/indexing.html#returning-a-view-versus-a-copy\n",
      "  df['original_text'].loc[i] = text.decode('utf-8')\n",
      "7it [00:00, 11.51it/s]/tmp/ipykernel_78/1540328009.py:10: SettingWithCopyWarning: \n",
      "A value is trying to be set on a copy of a slice from a DataFrame\n",
      "\n",
      "See the caveats in the documentation: https://pandas.pydata.org/pandas-docs/stable/user_guide/indexing.html#returning-a-view-versus-a-copy\n",
      "  df['original_text'].loc[i] = text.decode('utf-8')\n",
      "/tmp/ipykernel_78/1540328009.py:10: SettingWithCopyWarning: \n",
      "A value is trying to be set on a copy of a slice from a DataFrame\n",
      "\n",
      "See the caveats in the documentation: https://pandas.pydata.org/pandas-docs/stable/user_guide/indexing.html#returning-a-view-versus-a-copy\n",
      "  df['original_text'].loc[i] = text.decode('utf-8')\n",
      "9it [00:01,  7.18it/s]/tmp/ipykernel_78/1540328009.py:10: SettingWithCopyWarning: \n",
      "A value is trying to be set on a copy of a slice from a DataFrame\n",
      "\n",
      "See the caveats in the documentation: https://pandas.pydata.org/pandas-docs/stable/user_guide/indexing.html#returning-a-view-versus-a-copy\n",
      "  df['original_text'].loc[i] = text.decode('utf-8')\n",
      "/tmp/ipykernel_78/1540328009.py:10: SettingWithCopyWarning: \n",
      "A value is trying to be set on a copy of a slice from a DataFrame\n",
      "\n",
      "See the caveats in the documentation: https://pandas.pydata.org/pandas-docs/stable/user_guide/indexing.html#returning-a-view-versus-a-copy\n",
      "  df['original_text'].loc[i] = text.decode('utf-8')\n",
      "11it [00:01,  8.02it/s]/tmp/ipykernel_78/1540328009.py:10: SettingWithCopyWarning: \n",
      "A value is trying to be set on a copy of a slice from a DataFrame\n",
      "\n",
      "See the caveats in the documentation: https://pandas.pydata.org/pandas-docs/stable/user_guide/indexing.html#returning-a-view-versus-a-copy\n",
      "  df['original_text'].loc[i] = text.decode('utf-8')\n",
      "14it [00:01, 10.51it/s]/tmp/ipykernel_78/1540328009.py:10: SettingWithCopyWarning: \n",
      "A value is trying to be set on a copy of a slice from a DataFrame\n",
      "\n",
      "See the caveats in the documentation: https://pandas.pydata.org/pandas-docs/stable/user_guide/indexing.html#returning-a-view-versus-a-copy\n",
      "  df['original_text'].loc[i] = text.decode('utf-8')\n",
      "/tmp/ipykernel_78/1540328009.py:10: SettingWithCopyWarning: \n",
      "A value is trying to be set on a copy of a slice from a DataFrame\n",
      "\n",
      "See the caveats in the documentation: https://pandas.pydata.org/pandas-docs/stable/user_guide/indexing.html#returning-a-view-versus-a-copy\n",
      "  df['original_text'].loc[i] = text.decode('utf-8')\n",
      "16it [00:02,  6.15it/s]/tmp/ipykernel_78/1540328009.py:10: SettingWithCopyWarning: \n",
      "A value is trying to be set on a copy of a slice from a DataFrame\n",
      "\n",
      "See the caveats in the documentation: https://pandas.pydata.org/pandas-docs/stable/user_guide/indexing.html#returning-a-view-versus-a-copy\n",
      "  df['original_text'].loc[i] = text.decode('utf-8')\n",
      "17it [00:02,  5.91it/s]/tmp/ipykernel_78/1540328009.py:10: SettingWithCopyWarning: \n",
      "A value is trying to be set on a copy of a slice from a DataFrame\n",
      "\n",
      "See the caveats in the documentation: https://pandas.pydata.org/pandas-docs/stable/user_guide/indexing.html#returning-a-view-versus-a-copy\n",
      "  df['original_text'].loc[i] = text.decode('utf-8')\n",
      "18it [00:02,  5.95it/s]/tmp/ipykernel_78/1540328009.py:10: SettingWithCopyWarning: \n",
      "A value is trying to be set on a copy of a slice from a DataFrame\n",
      "\n",
      "See the caveats in the documentation: https://pandas.pydata.org/pandas-docs/stable/user_guide/indexing.html#returning-a-view-versus-a-copy\n",
      "  df['original_text'].loc[i] = text.decode('utf-8')\n",
      "19it [00:02,  6.03it/s]/tmp/ipykernel_78/1540328009.py:10: SettingWithCopyWarning: \n",
      "A value is trying to be set on a copy of a slice from a DataFrame\n",
      "\n",
      "See the caveats in the documentation: https://pandas.pydata.org/pandas-docs/stable/user_guide/indexing.html#returning-a-view-versus-a-copy\n",
      "  df['original_text'].loc[i] = text.decode('utf-8')\n",
      "20it [00:02,  4.93it/s]/tmp/ipykernel_78/1540328009.py:10: SettingWithCopyWarning: \n",
      "A value is trying to be set on a copy of a slice from a DataFrame\n",
      "\n",
      "See the caveats in the documentation: https://pandas.pydata.org/pandas-docs/stable/user_guide/indexing.html#returning-a-view-versus-a-copy\n",
      "  df['original_text'].loc[i] = text.decode('utf-8')\n",
      "22it [00:03,  6.99it/s]/tmp/ipykernel_78/1540328009.py:10: SettingWithCopyWarning: \n",
      "A value is trying to be set on a copy of a slice from a DataFrame\n",
      "\n",
      "See the caveats in the documentation: https://pandas.pydata.org/pandas-docs/stable/user_guide/indexing.html#returning-a-view-versus-a-copy\n",
      "  df['original_text'].loc[i] = text.decode('utf-8')\n",
      "/tmp/ipykernel_78/1540328009.py:10: SettingWithCopyWarning: \n",
      "A value is trying to be set on a copy of a slice from a DataFrame\n",
      "\n",
      "See the caveats in the documentation: https://pandas.pydata.org/pandas-docs/stable/user_guide/indexing.html#returning-a-view-versus-a-copy\n",
      "  df['original_text'].loc[i] = text.decode('utf-8')\n",
      "/tmp/ipykernel_78/1540328009.py:10: SettingWithCopyWarning: \n",
      "A value is trying to be set on a copy of a slice from a DataFrame\n",
      "\n",
      "See the caveats in the documentation: https://pandas.pydata.org/pandas-docs/stable/user_guide/indexing.html#returning-a-view-versus-a-copy\n",
      "  df['original_text'].loc[i] = text.decode('utf-8')\n",
      "25it [00:03, 10.33it/s]/tmp/ipykernel_78/1540328009.py:10: SettingWithCopyWarning: \n",
      "A value is trying to be set on a copy of a slice from a DataFrame\n",
      "\n",
      "See the caveats in the documentation: https://pandas.pydata.org/pandas-docs/stable/user_guide/indexing.html#returning-a-view-versus-a-copy\n",
      "  df['original_text'].loc[i] = text.decode('utf-8')\n",
      "27it [00:03, 11.35it/s]/tmp/ipykernel_78/1540328009.py:10: SettingWithCopyWarning: \n",
      "A value is trying to be set on a copy of a slice from a DataFrame\n",
      "\n",
      "See the caveats in the documentation: https://pandas.pydata.org/pandas-docs/stable/user_guide/indexing.html#returning-a-view-versus-a-copy\n",
      "  df['original_text'].loc[i] = text.decode('utf-8')\n",
      "/tmp/ipykernel_78/1540328009.py:10: SettingWithCopyWarning: \n",
      "A value is trying to be set on a copy of a slice from a DataFrame\n",
      "\n",
      "See the caveats in the documentation: https://pandas.pydata.org/pandas-docs/stable/user_guide/indexing.html#returning-a-view-versus-a-copy\n",
      "  df['original_text'].loc[i] = text.decode('utf-8')\n",
      "29it [00:03, 10.07it/s]/tmp/ipykernel_78/1540328009.py:10: SettingWithCopyWarning: \n",
      "A value is trying to be set on a copy of a slice from a DataFrame\n",
      "\n",
      "See the caveats in the documentation: https://pandas.pydata.org/pandas-docs/stable/user_guide/indexing.html#returning-a-view-versus-a-copy\n",
      "  df['original_text'].loc[i] = text.decode('utf-8')\n",
      "32it [00:03, 11.38it/s]/tmp/ipykernel_78/1540328009.py:10: SettingWithCopyWarning: \n",
      "A value is trying to be set on a copy of a slice from a DataFrame\n",
      "\n",
      "See the caveats in the documentation: https://pandas.pydata.org/pandas-docs/stable/user_guide/indexing.html#returning-a-view-versus-a-copy\n",
      "  df['original_text'].loc[i] = text.decode('utf-8')\n",
      "34it [00:04,  9.23it/s]/tmp/ipykernel_78/1540328009.py:10: SettingWithCopyWarning: \n",
      "A value is trying to be set on a copy of a slice from a DataFrame\n",
      "\n",
      "See the caveats in the documentation: https://pandas.pydata.org/pandas-docs/stable/user_guide/indexing.html#returning-a-view-versus-a-copy\n",
      "  df['original_text'].loc[i] = text.decode('utf-8')\n",
      "/tmp/ipykernel_78/1540328009.py:10: SettingWithCopyWarning: \n",
      "A value is trying to be set on a copy of a slice from a DataFrame\n",
      "\n",
      "See the caveats in the documentation: https://pandas.pydata.org/pandas-docs/stable/user_guide/indexing.html#returning-a-view-versus-a-copy\n",
      "  df['original_text'].loc[i] = text.decode('utf-8')\n",
      "36it [00:04,  8.65it/s]/tmp/ipykernel_78/1540328009.py:10: SettingWithCopyWarning: \n",
      "A value is trying to be set on a copy of a slice from a DataFrame\n",
      "\n",
      "See the caveats in the documentation: https://pandas.pydata.org/pandas-docs/stable/user_guide/indexing.html#returning-a-view-versus-a-copy\n",
      "  df['original_text'].loc[i] = text.decode('utf-8')\n",
      "/tmp/ipykernel_78/1540328009.py:10: SettingWithCopyWarning: \n",
      "A value is trying to be set on a copy of a slice from a DataFrame\n",
      "\n",
      "See the caveats in the documentation: https://pandas.pydata.org/pandas-docs/stable/user_guide/indexing.html#returning-a-view-versus-a-copy\n",
      "  df['original_text'].loc[i] = text.decode('utf-8')\n",
      "38it [00:04,  7.95it/s]/tmp/ipykernel_78/1540328009.py:10: SettingWithCopyWarning: \n",
      "A value is trying to be set on a copy of a slice from a DataFrame\n",
      "\n",
      "See the caveats in the documentation: https://pandas.pydata.org/pandas-docs/stable/user_guide/indexing.html#returning-a-view-versus-a-copy\n",
      "  df['original_text'].loc[i] = text.decode('utf-8')\n",
      "40it [00:04,  9.58it/s]/tmp/ipykernel_78/1540328009.py:10: SettingWithCopyWarning: \n",
      "A value is trying to be set on a copy of a slice from a DataFrame\n",
      "\n",
      "See the caveats in the documentation: https://pandas.pydata.org/pandas-docs/stable/user_guide/indexing.html#returning-a-view-versus-a-copy\n",
      "  df['original_text'].loc[i] = text.decode('utf-8')\n",
      "/tmp/ipykernel_78/1540328009.py:10: SettingWithCopyWarning: \n",
      "A value is trying to be set on a copy of a slice from a DataFrame\n",
      "\n",
      "See the caveats in the documentation: https://pandas.pydata.org/pandas-docs/stable/user_guide/indexing.html#returning-a-view-versus-a-copy\n",
      "  df['original_text'].loc[i] = text.decode('utf-8')\n",
      "42it [00:05,  5.34it/s]/tmp/ipykernel_78/1540328009.py:10: SettingWithCopyWarning: \n",
      "A value is trying to be set on a copy of a slice from a DataFrame\n",
      "\n",
      "See the caveats in the documentation: https://pandas.pydata.org/pandas-docs/stable/user_guide/indexing.html#returning-a-view-versus-a-copy\n",
      "  df['original_text'].loc[i] = text.decode('utf-8')\n",
      "43it [00:05,  5.17it/s]/tmp/ipykernel_78/1540328009.py:10: SettingWithCopyWarning: \n",
      "A value is trying to be set on a copy of a slice from a DataFrame\n",
      "\n",
      "See the caveats in the documentation: https://pandas.pydata.org/pandas-docs/stable/user_guide/indexing.html#returning-a-view-versus-a-copy\n",
      "  df['original_text'].loc[i] = text.decode('utf-8')\n",
      "44it [00:05,  5.29it/s]/tmp/ipykernel_78/1540328009.py:10: SettingWithCopyWarning: \n",
      "A value is trying to be set on a copy of a slice from a DataFrame\n",
      "\n",
      "See the caveats in the documentation: https://pandas.pydata.org/pandas-docs/stable/user_guide/indexing.html#returning-a-view-versus-a-copy\n",
      "  df['original_text'].loc[i] = text.decode('utf-8')\n",
      "/tmp/ipykernel_78/1540328009.py:10: SettingWithCopyWarning: \n",
      "A value is trying to be set on a copy of a slice from a DataFrame\n",
      "\n",
      "See the caveats in the documentation: https://pandas.pydata.org/pandas-docs/stable/user_guide/indexing.html#returning-a-view-versus-a-copy\n",
      "  df['original_text'].loc[i] = text.decode('utf-8')\n",
      "46it [00:06,  7.18it/s]/tmp/ipykernel_78/1540328009.py:10: SettingWithCopyWarning: \n",
      "A value is trying to be set on a copy of a slice from a DataFrame\n",
      "\n",
      "See the caveats in the documentation: https://pandas.pydata.org/pandas-docs/stable/user_guide/indexing.html#returning-a-view-versus-a-copy\n",
      "  df['original_text'].loc[i] = text.decode('utf-8')\n",
      "/tmp/ipykernel_78/1540328009.py:10: SettingWithCopyWarning: \n",
      "A value is trying to be set on a copy of a slice from a DataFrame\n",
      "\n",
      "See the caveats in the documentation: https://pandas.pydata.org/pandas-docs/stable/user_guide/indexing.html#returning-a-view-versus-a-copy\n",
      "  df['original_text'].loc[i] = text.decode('utf-8')\n",
      "48it [00:06,  5.96it/s]/tmp/ipykernel_78/1540328009.py:10: SettingWithCopyWarning: \n",
      "A value is trying to be set on a copy of a slice from a DataFrame\n",
      "\n",
      "See the caveats in the documentation: https://pandas.pydata.org/pandas-docs/stable/user_guide/indexing.html#returning-a-view-versus-a-copy\n",
      "  df['original_text'].loc[i] = text.decode('utf-8')\n",
      "49it [00:06,  6.29it/s]/tmp/ipykernel_78/1540328009.py:10: SettingWithCopyWarning: \n",
      "A value is trying to be set on a copy of a slice from a DataFrame\n",
      "\n",
      "See the caveats in the documentation: https://pandas.pydata.org/pandas-docs/stable/user_guide/indexing.html#returning-a-view-versus-a-copy\n",
      "  df['original_text'].loc[i] = text.decode('utf-8')\n",
      "50it [00:06,  6.34it/s]/tmp/ipykernel_78/1540328009.py:10: SettingWithCopyWarning: \n",
      "A value is trying to be set on a copy of a slice from a DataFrame\n",
      "\n",
      "See the caveats in the documentation: https://pandas.pydata.org/pandas-docs/stable/user_guide/indexing.html#returning-a-view-versus-a-copy\n",
      "  df['original_text'].loc[i] = text.decode('utf-8')\n",
      "51it [00:06,  6.08it/s]/tmp/ipykernel_78/1540328009.py:10: SettingWithCopyWarning: \n",
      "A value is trying to be set on a copy of a slice from a DataFrame\n",
      "\n",
      "See the caveats in the documentation: https://pandas.pydata.org/pandas-docs/stable/user_guide/indexing.html#returning-a-view-versus-a-copy\n",
      "  df['original_text'].loc[i] = text.decode('utf-8')\n",
      "52it [00:07,  6.73it/s]/tmp/ipykernel_78/1540328009.py:10: SettingWithCopyWarning: \n",
      "A value is trying to be set on a copy of a slice from a DataFrame\n",
      "\n",
      "See the caveats in the documentation: https://pandas.pydata.org/pandas-docs/stable/user_guide/indexing.html#returning-a-view-versus-a-copy\n",
      "  df['original_text'].loc[i] = text.decode('utf-8')\n",
      "/tmp/ipykernel_78/1540328009.py:10: SettingWithCopyWarning: \n",
      "A value is trying to be set on a copy of a slice from a DataFrame\n",
      "\n",
      "See the caveats in the documentation: https://pandas.pydata.org/pandas-docs/stable/user_guide/indexing.html#returning-a-view-versus-a-copy\n",
      "  df['original_text'].loc[i] = text.decode('utf-8')\n",
      "54it [00:07,  7.18it/s]/tmp/ipykernel_78/1540328009.py:10: SettingWithCopyWarning: \n",
      "A value is trying to be set on a copy of a slice from a DataFrame\n",
      "\n",
      "See the caveats in the documentation: https://pandas.pydata.org/pandas-docs/stable/user_guide/indexing.html#returning-a-view-versus-a-copy\n",
      "  df['original_text'].loc[i] = text.decode('utf-8')\n",
      "56it [00:07,  9.16it/s]/tmp/ipykernel_78/1540328009.py:10: SettingWithCopyWarning: \n",
      "A value is trying to be set on a copy of a slice from a DataFrame\n",
      "\n",
      "See the caveats in the documentation: https://pandas.pydata.org/pandas-docs/stable/user_guide/indexing.html#returning-a-view-versus-a-copy\n",
      "  df['original_text'].loc[i] = text.decode('utf-8')\n",
      "58it [00:07,  6.84it/s]/tmp/ipykernel_78/1540328009.py:10: SettingWithCopyWarning: \n",
      "A value is trying to be set on a copy of a slice from a DataFrame\n",
      "\n",
      "See the caveats in the documentation: https://pandas.pydata.org/pandas-docs/stable/user_guide/indexing.html#returning-a-view-versus-a-copy\n",
      "  df['original_text'].loc[i] = text.decode('utf-8')\n",
      "/tmp/ipykernel_78/1540328009.py:10: SettingWithCopyWarning: \n",
      "A value is trying to be set on a copy of a slice from a DataFrame\n",
      "\n",
      "See the caveats in the documentation: https://pandas.pydata.org/pandas-docs/stable/user_guide/indexing.html#returning-a-view-versus-a-copy\n",
      "  df['original_text'].loc[i] = text.decode('utf-8')\n",
      "60it [00:08,  8.15it/s]/tmp/ipykernel_78/1540328009.py:10: SettingWithCopyWarning: \n",
      "A value is trying to be set on a copy of a slice from a DataFrame\n",
      "\n",
      "See the caveats in the documentation: https://pandas.pydata.org/pandas-docs/stable/user_guide/indexing.html#returning-a-view-versus-a-copy\n",
      "  df['original_text'].loc[i] = text.decode('utf-8')\n",
      "62it [00:08,  8.01it/s]/tmp/ipykernel_78/1540328009.py:10: SettingWithCopyWarning: \n",
      "A value is trying to be set on a copy of a slice from a DataFrame\n",
      "\n",
      "See the caveats in the documentation: https://pandas.pydata.org/pandas-docs/stable/user_guide/indexing.html#returning-a-view-versus-a-copy\n",
      "  df['original_text'].loc[i] = text.decode('utf-8')\n",
      "/tmp/ipykernel_78/1540328009.py:10: SettingWithCopyWarning: \n",
      "A value is trying to be set on a copy of a slice from a DataFrame\n",
      "\n",
      "See the caveats in the documentation: https://pandas.pydata.org/pandas-docs/stable/user_guide/indexing.html#returning-a-view-versus-a-copy\n",
      "  df['original_text'].loc[i] = text.decode('utf-8')\n",
      "64it [00:08,  9.16it/s]/tmp/ipykernel_78/1540328009.py:10: SettingWithCopyWarning: \n",
      "A value is trying to be set on a copy of a slice from a DataFrame\n",
      "\n",
      "See the caveats in the documentation: https://pandas.pydata.org/pandas-docs/stable/user_guide/indexing.html#returning-a-view-versus-a-copy\n",
      "  df['original_text'].loc[i] = text.decode('utf-8')\n",
      "/tmp/ipykernel_78/1540328009.py:10: SettingWithCopyWarning: \n",
      "A value is trying to be set on a copy of a slice from a DataFrame\n",
      "\n",
      "See the caveats in the documentation: https://pandas.pydata.org/pandas-docs/stable/user_guide/indexing.html#returning-a-view-versus-a-copy\n",
      "  df['original_text'].loc[i] = text.decode('utf-8')\n",
      "66it [00:08,  8.21it/s]/tmp/ipykernel_78/1540328009.py:10: SettingWithCopyWarning: \n",
      "A value is trying to be set on a copy of a slice from a DataFrame\n",
      "\n",
      "See the caveats in the documentation: https://pandas.pydata.org/pandas-docs/stable/user_guide/indexing.html#returning-a-view-versus-a-copy\n",
      "  df['original_text'].loc[i] = text.decode('utf-8')\n",
      "/tmp/ipykernel_78/1540328009.py:10: SettingWithCopyWarning: \n",
      "A value is trying to be set on a copy of a slice from a DataFrame\n",
      "\n",
      "See the caveats in the documentation: https://pandas.pydata.org/pandas-docs/stable/user_guide/indexing.html#returning-a-view-versus-a-copy\n",
      "  df['original_text'].loc[i] = text.decode('utf-8')\n",
      "68it [00:09,  7.87it/s]/tmp/ipykernel_78/1540328009.py:10: SettingWithCopyWarning: \n",
      "A value is trying to be set on a copy of a slice from a DataFrame\n",
      "\n",
      "See the caveats in the documentation: https://pandas.pydata.org/pandas-docs/stable/user_guide/indexing.html#returning-a-view-versus-a-copy\n",
      "  df['original_text'].loc[i] = text.decode('utf-8')\n",
      "69it [00:09,  7.35it/s]/tmp/ipykernel_78/1540328009.py:10: SettingWithCopyWarning: \n",
      "A value is trying to be set on a copy of a slice from a DataFrame\n",
      "\n",
      "See the caveats in the documentation: https://pandas.pydata.org/pandas-docs/stable/user_guide/indexing.html#returning-a-view-versus-a-copy\n",
      "  df['original_text'].loc[i] = text.decode('utf-8')\n",
      "71it [00:09,  8.88it/s]/tmp/ipykernel_78/1540328009.py:10: SettingWithCopyWarning: \n",
      "A value is trying to be set on a copy of a slice from a DataFrame\n",
      "\n",
      "See the caveats in the documentation: https://pandas.pydata.org/pandas-docs/stable/user_guide/indexing.html#returning-a-view-versus-a-copy\n",
      "  df['original_text'].loc[i] = text.decode('utf-8')\n",
      "74it [00:09,  9.72it/s]/tmp/ipykernel_78/1540328009.py:10: SettingWithCopyWarning: \n",
      "A value is trying to be set on a copy of a slice from a DataFrame\n",
      "\n",
      "See the caveats in the documentation: https://pandas.pydata.org/pandas-docs/stable/user_guide/indexing.html#returning-a-view-versus-a-copy\n",
      "  df['original_text'].loc[i] = text.decode('utf-8')\n",
      "/tmp/ipykernel_78/1540328009.py:10: SettingWithCopyWarning: \n",
      "A value is trying to be set on a copy of a slice from a DataFrame\n",
      "\n",
      "See the caveats in the documentation: https://pandas.pydata.org/pandas-docs/stable/user_guide/indexing.html#returning-a-view-versus-a-copy\n",
      "  df['original_text'].loc[i] = text.decode('utf-8')\n",
      "76it [00:09,  8.62it/s]/tmp/ipykernel_78/1540328009.py:10: SettingWithCopyWarning: \n",
      "A value is trying to be set on a copy of a slice from a DataFrame\n",
      "\n",
      "See the caveats in the documentation: https://pandas.pydata.org/pandas-docs/stable/user_guide/indexing.html#returning-a-view-versus-a-copy\n",
      "  df['original_text'].loc[i] = text.decode('utf-8')\n",
      "77it [00:10,  6.84it/s]/tmp/ipykernel_78/1540328009.py:10: SettingWithCopyWarning: \n",
      "A value is trying to be set on a copy of a slice from a DataFrame\n",
      "\n",
      "See the caveats in the documentation: https://pandas.pydata.org/pandas-docs/stable/user_guide/indexing.html#returning-a-view-versus-a-copy\n",
      "  df['original_text'].loc[i] = text.decode('utf-8')\n",
      "/tmp/ipykernel_78/1540328009.py:10: SettingWithCopyWarning: \n",
      "A value is trying to be set on a copy of a slice from a DataFrame\n",
      "\n",
      "See the caveats in the documentation: https://pandas.pydata.org/pandas-docs/stable/user_guide/indexing.html#returning-a-view-versus-a-copy\n",
      "  df['original_text'].loc[i] = text.decode('utf-8')\n",
      "79it [00:10,  7.40it/s]/tmp/ipykernel_78/1540328009.py:10: SettingWithCopyWarning: \n",
      "A value is trying to be set on a copy of a slice from a DataFrame\n",
      "\n",
      "See the caveats in the documentation: https://pandas.pydata.org/pandas-docs/stable/user_guide/indexing.html#returning-a-view-versus-a-copy\n",
      "  df['original_text'].loc[i] = text.decode('utf-8')\n",
      "80it [00:10,  7.28it/s]/tmp/ipykernel_78/1540328009.py:10: SettingWithCopyWarning: \n",
      "A value is trying to be set on a copy of a slice from a DataFrame\n",
      "\n",
      "See the caveats in the documentation: https://pandas.pydata.org/pandas-docs/stable/user_guide/indexing.html#returning-a-view-versus-a-copy\n",
      "  df['original_text'].loc[i] = text.decode('utf-8')\n",
      "/tmp/ipykernel_78/1540328009.py:10: SettingWithCopyWarning: \n",
      "A value is trying to be set on a copy of a slice from a DataFrame\n",
      "\n",
      "See the caveats in the documentation: https://pandas.pydata.org/pandas-docs/stable/user_guide/indexing.html#returning-a-view-versus-a-copy\n",
      "  df['original_text'].loc[i] = text.decode('utf-8')\n",
      "82it [00:10,  8.20it/s]/tmp/ipykernel_78/1540328009.py:10: SettingWithCopyWarning: \n",
      "A value is trying to be set on a copy of a slice from a DataFrame\n",
      "\n",
      "See the caveats in the documentation: https://pandas.pydata.org/pandas-docs/stable/user_guide/indexing.html#returning-a-view-versus-a-copy\n",
      "  df['original_text'].loc[i] = text.decode('utf-8')\n",
      "84it [00:10,  9.02it/s]/tmp/ipykernel_78/1540328009.py:10: SettingWithCopyWarning: \n",
      "A value is trying to be set on a copy of a slice from a DataFrame\n",
      "\n",
      "See the caveats in the documentation: https://pandas.pydata.org/pandas-docs/stable/user_guide/indexing.html#returning-a-view-versus-a-copy\n",
      "  df['original_text'].loc[i] = text.decode('utf-8')\n",
      "86it [00:11, 10.11it/s]/tmp/ipykernel_78/1540328009.py:10: SettingWithCopyWarning: \n",
      "A value is trying to be set on a copy of a slice from a DataFrame\n",
      "\n",
      "See the caveats in the documentation: https://pandas.pydata.org/pandas-docs/stable/user_guide/indexing.html#returning-a-view-versus-a-copy\n",
      "  df['original_text'].loc[i] = text.decode('utf-8')\n",
      "/tmp/ipykernel_78/1540328009.py:10: SettingWithCopyWarning: \n",
      "A value is trying to be set on a copy of a slice from a DataFrame\n",
      "\n",
      "See the caveats in the documentation: https://pandas.pydata.org/pandas-docs/stable/user_guide/indexing.html#returning-a-view-versus-a-copy\n",
      "  df['original_text'].loc[i] = text.decode('utf-8')\n",
      "88it [00:11,  6.35it/s]/tmp/ipykernel_78/1540328009.py:10: SettingWithCopyWarning: \n",
      "A value is trying to be set on a copy of a slice from a DataFrame\n",
      "\n",
      "See the caveats in the documentation: https://pandas.pydata.org/pandas-docs/stable/user_guide/indexing.html#returning-a-view-versus-a-copy\n",
      "  df['original_text'].loc[i] = text.decode('utf-8')\n",
      "89it [00:11,  6.77it/s]/tmp/ipykernel_78/1540328009.py:10: SettingWithCopyWarning: \n",
      "A value is trying to be set on a copy of a slice from a DataFrame\n",
      "\n",
      "See the caveats in the documentation: https://pandas.pydata.org/pandas-docs/stable/user_guide/indexing.html#returning-a-view-versus-a-copy\n",
      "  df['original_text'].loc[i] = text.decode('utf-8')\n",
      "/tmp/ipykernel_78/1540328009.py:10: SettingWithCopyWarning: \n",
      "A value is trying to be set on a copy of a slice from a DataFrame\n",
      "\n",
      "See the caveats in the documentation: https://pandas.pydata.org/pandas-docs/stable/user_guide/indexing.html#returning-a-view-versus-a-copy\n",
      "  df['original_text'].loc[i] = text.decode('utf-8')\n",
      "92it [00:12,  8.33it/s]/tmp/ipykernel_78/1540328009.py:10: SettingWithCopyWarning: \n",
      "A value is trying to be set on a copy of a slice from a DataFrame\n",
      "\n",
      "See the caveats in the documentation: https://pandas.pydata.org/pandas-docs/stable/user_guide/indexing.html#returning-a-view-versus-a-copy\n",
      "  df['original_text'].loc[i] = text.decode('utf-8')\n",
      "93it [00:12,  7.51it/s]/tmp/ipykernel_78/1540328009.py:10: SettingWithCopyWarning: \n",
      "A value is trying to be set on a copy of a slice from a DataFrame\n",
      "\n",
      "See the caveats in the documentation: https://pandas.pydata.org/pandas-docs/stable/user_guide/indexing.html#returning-a-view-versus-a-copy\n",
      "  df['original_text'].loc[i] = text.decode('utf-8')\n",
      "94it [00:12,  6.48it/s]/tmp/ipykernel_78/1540328009.py:10: SettingWithCopyWarning: \n",
      "A value is trying to be set on a copy of a slice from a DataFrame\n",
      "\n",
      "See the caveats in the documentation: https://pandas.pydata.org/pandas-docs/stable/user_guide/indexing.html#returning-a-view-versus-a-copy\n",
      "  df['original_text'].loc[i] = text.decode('utf-8')\n",
      "95it [00:12,  6.73it/s]/tmp/ipykernel_78/1540328009.py:10: SettingWithCopyWarning: \n",
      "A value is trying to be set on a copy of a slice from a DataFrame\n",
      "\n",
      "See the caveats in the documentation: https://pandas.pydata.org/pandas-docs/stable/user_guide/indexing.html#returning-a-view-versus-a-copy\n",
      "  df['original_text'].loc[i] = text.decode('utf-8')\n",
      "96it [00:12,  5.98it/s]/tmp/ipykernel_78/1540328009.py:10: SettingWithCopyWarning: \n",
      "A value is trying to be set on a copy of a slice from a DataFrame\n",
      "\n",
      "See the caveats in the documentation: https://pandas.pydata.org/pandas-docs/stable/user_guide/indexing.html#returning-a-view-versus-a-copy\n",
      "  df['original_text'].loc[i] = text.decode('utf-8')\n",
      "97it [00:12,  5.90it/s]/tmp/ipykernel_78/1540328009.py:10: SettingWithCopyWarning: \n",
      "A value is trying to be set on a copy of a slice from a DataFrame\n",
      "\n",
      "See the caveats in the documentation: https://pandas.pydata.org/pandas-docs/stable/user_guide/indexing.html#returning-a-view-versus-a-copy\n",
      "  df['original_text'].loc[i] = text.decode('utf-8')\n",
      "/tmp/ipykernel_78/1540328009.py:10: SettingWithCopyWarning: \n",
      "A value is trying to be set on a copy of a slice from a DataFrame\n",
      "\n",
      "See the caveats in the documentation: https://pandas.pydata.org/pandas-docs/stable/user_guide/indexing.html#returning-a-view-versus-a-copy\n",
      "  df['original_text'].loc[i] = text.decode('utf-8')\n",
      "99it [00:13,  7.63it/s]/tmp/ipykernel_78/1540328009.py:10: SettingWithCopyWarning: \n",
      "A value is trying to be set on a copy of a slice from a DataFrame\n",
      "\n",
      "See the caveats in the documentation: https://pandas.pydata.org/pandas-docs/stable/user_guide/indexing.html#returning-a-view-versus-a-copy\n",
      "  df['original_text'].loc[i] = text.decode('utf-8')\n",
      "/tmp/ipykernel_78/1540328009.py:10: SettingWithCopyWarning: \n",
      "A value is trying to be set on a copy of a slice from a DataFrame\n",
      "\n",
      "See the caveats in the documentation: https://pandas.pydata.org/pandas-docs/stable/user_guide/indexing.html#returning-a-view-versus-a-copy\n",
      "  df['original_text'].loc[i] = text.decode('utf-8')\n",
      "101it [00:13,  9.34it/s]/tmp/ipykernel_78/1540328009.py:10: SettingWithCopyWarning: \n",
      "A value is trying to be set on a copy of a slice from a DataFrame\n",
      "\n",
      "See the caveats in the documentation: https://pandas.pydata.org/pandas-docs/stable/user_guide/indexing.html#returning-a-view-versus-a-copy\n",
      "  df['original_text'].loc[i] = text.decode('utf-8')\n",
      "/tmp/ipykernel_78/1540328009.py:10: SettingWithCopyWarning: \n",
      "A value is trying to be set on a copy of a slice from a DataFrame\n",
      "\n",
      "See the caveats in the documentation: https://pandas.pydata.org/pandas-docs/stable/user_guide/indexing.html#returning-a-view-versus-a-copy\n",
      "  df['original_text'].loc[i] = text.decode('utf-8')\n",
      "103it [00:13,  7.91it/s]/tmp/ipykernel_78/1540328009.py:10: SettingWithCopyWarning: \n",
      "A value is trying to be set on a copy of a slice from a DataFrame\n",
      "\n",
      "See the caveats in the documentation: https://pandas.pydata.org/pandas-docs/stable/user_guide/indexing.html#returning-a-view-versus-a-copy\n",
      "  df['original_text'].loc[i] = text.decode('utf-8')\n",
      "104it [00:13,  7.42it/s]/tmp/ipykernel_78/1540328009.py:10: SettingWithCopyWarning: \n",
      "A value is trying to be set on a copy of a slice from a DataFrame\n",
      "\n",
      "See the caveats in the documentation: https://pandas.pydata.org/pandas-docs/stable/user_guide/indexing.html#returning-a-view-versus-a-copy\n",
      "  df['original_text'].loc[i] = text.decode('utf-8')\n",
      "105it [00:13,  7.66it/s]/tmp/ipykernel_78/1540328009.py:10: SettingWithCopyWarning: \n",
      "A value is trying to be set on a copy of a slice from a DataFrame\n",
      "\n",
      "See the caveats in the documentation: https://pandas.pydata.org/pandas-docs/stable/user_guide/indexing.html#returning-a-view-versus-a-copy\n",
      "  df['original_text'].loc[i] = text.decode('utf-8')\n",
      "/tmp/ipykernel_78/1540328009.py:10: SettingWithCopyWarning: \n",
      "A value is trying to be set on a copy of a slice from a DataFrame\n",
      "\n",
      "See the caveats in the documentation: https://pandas.pydata.org/pandas-docs/stable/user_guide/indexing.html#returning-a-view-versus-a-copy\n",
      "  df['original_text'].loc[i] = text.decode('utf-8')\n",
      "107it [00:14,  8.51it/s]/tmp/ipykernel_78/1540328009.py:10: SettingWithCopyWarning: \n",
      "A value is trying to be set on a copy of a slice from a DataFrame\n",
      "\n",
      "See the caveats in the documentation: https://pandas.pydata.org/pandas-docs/stable/user_guide/indexing.html#returning-a-view-versus-a-copy\n",
      "  df['original_text'].loc[i] = text.decode('utf-8')\n",
      "109it [00:14, 10.63it/s]/tmp/ipykernel_78/1540328009.py:10: SettingWithCopyWarning: \n",
      "A value is trying to be set on a copy of a slice from a DataFrame\n",
      "\n",
      "See the caveats in the documentation: https://pandas.pydata.org/pandas-docs/stable/user_guide/indexing.html#returning-a-view-versus-a-copy\n",
      "  df['original_text'].loc[i] = text.decode('utf-8')\n",
      "/tmp/ipykernel_78/1540328009.py:10: SettingWithCopyWarning: \n",
      "A value is trying to be set on a copy of a slice from a DataFrame\n",
      "\n",
      "See the caveats in the documentation: https://pandas.pydata.org/pandas-docs/stable/user_guide/indexing.html#returning-a-view-versus-a-copy\n",
      "  df['original_text'].loc[i] = text.decode('utf-8')\n",
      "111it [00:14, 11.00it/s]/tmp/ipykernel_78/1540328009.py:10: SettingWithCopyWarning: \n",
      "A value is trying to be set on a copy of a slice from a DataFrame\n",
      "\n",
      "See the caveats in the documentation: https://pandas.pydata.org/pandas-docs/stable/user_guide/indexing.html#returning-a-view-versus-a-copy\n",
      "  df['original_text'].loc[i] = text.decode('utf-8')\n",
      "/tmp/ipykernel_78/1540328009.py:10: SettingWithCopyWarning: \n",
      "A value is trying to be set on a copy of a slice from a DataFrame\n",
      "\n",
      "See the caveats in the documentation: https://pandas.pydata.org/pandas-docs/stable/user_guide/indexing.html#returning-a-view-versus-a-copy\n",
      "  df['original_text'].loc[i] = text.decode('utf-8')\n",
      "114it [00:14, 11.80it/s]/tmp/ipykernel_78/1540328009.py:10: SettingWithCopyWarning: \n",
      "A value is trying to be set on a copy of a slice from a DataFrame\n",
      "\n",
      "See the caveats in the documentation: https://pandas.pydata.org/pandas-docs/stable/user_guide/indexing.html#returning-a-view-versus-a-copy\n",
      "  df['original_text'].loc[i] = text.decode('utf-8')\n",
      "116it [00:14, 10.45it/s]/tmp/ipykernel_78/1540328009.py:10: SettingWithCopyWarning: \n",
      "A value is trying to be set on a copy of a slice from a DataFrame\n",
      "\n",
      "See the caveats in the documentation: https://pandas.pydata.org/pandas-docs/stable/user_guide/indexing.html#returning-a-view-versus-a-copy\n",
      "  df['original_text'].loc[i] = text.decode('utf-8')\n",
      "/tmp/ipykernel_78/1540328009.py:10: SettingWithCopyWarning: \n",
      "A value is trying to be set on a copy of a slice from a DataFrame\n",
      "\n",
      "See the caveats in the documentation: https://pandas.pydata.org/pandas-docs/stable/user_guide/indexing.html#returning-a-view-versus-a-copy\n",
      "  df['original_text'].loc[i] = text.decode('utf-8')\n",
      "118it [00:15,  8.48it/s]/tmp/ipykernel_78/1540328009.py:10: SettingWithCopyWarning: \n",
      "A value is trying to be set on a copy of a slice from a DataFrame\n",
      "\n",
      "See the caveats in the documentation: https://pandas.pydata.org/pandas-docs/stable/user_guide/indexing.html#returning-a-view-versus-a-copy\n",
      "  df['original_text'].loc[i] = text.decode('utf-8')\n",
      "/tmp/ipykernel_78/1540328009.py:10: SettingWithCopyWarning: \n",
      "A value is trying to be set on a copy of a slice from a DataFrame\n",
      "\n",
      "See the caveats in the documentation: https://pandas.pydata.org/pandas-docs/stable/user_guide/indexing.html#returning-a-view-versus-a-copy\n",
      "  df['original_text'].loc[i] = text.decode('utf-8')\n",
      "120it [00:15,  7.83it/s]\n"
     ]
    },
    {
     "data": {
      "text/html": [
       "<div>\n",
       "<style scoped>\n",
       "    .dataframe tbody tr th:only-of-type {\n",
       "        vertical-align: middle;\n",
       "    }\n",
       "\n",
       "    .dataframe tbody tr th {\n",
       "        vertical-align: top;\n",
       "    }\n",
       "\n",
       "    .dataframe thead th {\n",
       "        text-align: right;\n",
       "    }\n",
       "</style>\n",
       "<table border=\"1\" class=\"dataframe\">\n",
       "  <thead>\n",
       "    <tr style=\"text-align: right;\">\n",
       "      <th></th>\n",
       "      <th>doc</th>\n",
       "      <th>class_name</th>\n",
       "      <th>type</th>\n",
       "      <th>original_text</th>\n",
       "    </tr>\n",
       "  </thead>\n",
       "  <tbody>\n",
       "    <tr>\n",
       "      <th>0</th>\n",
       "      <td>5908cb5da047d6c9e6dfea6337fb3189.doc</td>\n",
       "      <td>Договоры для акселератора/Договоры поставки</td>\n",
       "      <td>0</td>\n",
       "      <td>\\n\\n            ДОГОВОР\\n\\n\\n\\n\\n    |г. Москв...</td>\n",
       "    </tr>\n",
       "    <tr>\n",
       "      <th>1</th>\n",
       "      <td>14711e4fc8e56f0c75856c8837ec04cb.doc</td>\n",
       "      <td>Договоры для акселератора/Договоры поставки</td>\n",
       "      <td>0</td>\n",
       "      <td>\\n\\n\\n                           Договор №____...</td>\n",
       "    </tr>\n",
       "    <tr>\n",
       "      <th>2</th>\n",
       "      <td>7eb67b5aecf3f3190aab0a5f8ea32172.docx</td>\n",
       "      <td>Договоры для акселератора/Договоры поставки</td>\n",
       "      <td>0</td>\n",
       "      <td>ДОГОВОР ЗАКУПКИ № __________/\\n\\n\\n\\nг.\\t\\t\\t\\...</td>\n",
       "    </tr>\n",
       "    <tr>\n",
       "      <th>3</th>\n",
       "      <td>b40a9d048b199d5f4db62a6a2335f2a0.pdf</td>\n",
       "      <td>Договоры для акселератора/Договоры поставки</td>\n",
       "      <td>0</td>\n",
       "      <td>ДОГОВОР ПОСТАВКИ № 1\\nг. Москва\\n«11» декабря ...</td>\n",
       "    </tr>\n",
       "    <tr>\n",
       "      <th>4</th>\n",
       "      <td>84fec112d02288861e7af59f468131fb.docx</td>\n",
       "      <td>Договоры для акселератора/Договоры поставки</td>\n",
       "      <td>0</td>\n",
       "      <td>Договор  № {НомерДокумента}\\n\\n\\n\\n{ДатаДокуме...</td>\n",
       "    </tr>\n",
       "  </tbody>\n",
       "</table>\n",
       "</div>"
      ],
      "text/plain": [
       "                                     doc  \\\n",
       "0   5908cb5da047d6c9e6dfea6337fb3189.doc   \n",
       "1   14711e4fc8e56f0c75856c8837ec04cb.doc   \n",
       "2  7eb67b5aecf3f3190aab0a5f8ea32172.docx   \n",
       "3   b40a9d048b199d5f4db62a6a2335f2a0.pdf   \n",
       "4  84fec112d02288861e7af59f468131fb.docx   \n",
       "\n",
       "                                    class_name  type  \\\n",
       "0  Договоры для акселератора/Договоры поставки     0   \n",
       "1  Договоры для акселератора/Договоры поставки     0   \n",
       "2  Договоры для акселератора/Договоры поставки     0   \n",
       "3  Договоры для акселератора/Договоры поставки     0   \n",
       "4  Договоры для акселератора/Договоры поставки     0   \n",
       "\n",
       "                                       original_text  \n",
       "0  \\n\\n            ДОГОВОР\\n\\n\\n\\n\\n    |г. Москв...  \n",
       "1  \\n\\n\\n                           Договор №____...  \n",
       "2  ДОГОВОР ЗАКУПКИ № __________/\\n\\n\\n\\nг.\\t\\t\\t\\...  \n",
       "3  ДОГОВОР ПОСТАВКИ № 1\\nг. Москва\\n«11» декабря ...  \n",
       "4  Договор  № {НомерДокумента}\\n\\n\\n\\n{ДатаДокуме...  "
      ]
     },
     "execution_count": 3,
     "metadata": {},
     "output_type": "execute_result"
    }
   ],
   "source": [
    "df = pd.DataFrame(pd.read_json('classes.json',typ='series')).reset_index()\n",
    "df.columns = ['doc','class_name']\n",
    "df['type'] = df['class_name'].replace(df['class_name'].unique(),[0,1,2,3,4])\n",
    "df['original_text'] = None\n",
    "\n",
    "for i,d in tqdm(df.iterrows()):\n",
    "    doc_path = Path.cwd()/'docs'/d.doc\n",
    "    doc_type = d.doc.split('.')[-1]\n",
    "    text = textract.process(str(doc_path))\n",
    "    df['original_text'].loc[i] = text.decode('utf-8')\n",
    "\n",
    "df.head()"
   ]
  },
  {
   "cell_type": "code",
   "execution_count": 4,
   "id": "9857a1df-b0f0-4cf8-b476-ecbf6862e1bc",
   "metadata": {},
   "outputs": [
    {
     "data": {
      "text/plain": [
       "3    6\n",
       "4    5\n",
       "1    4\n",
       "2    3\n",
       "0    2\n",
       "Name: type, dtype: int64"
      ]
     },
     "execution_count": 4,
     "metadata": {},
     "output_type": "execute_result"
    }
   ],
   "source": [
    "def prepare_full_text(x):\n",
    "    x = x.replace('\\n','')\n",
    "    x = x.replace('\\t','')\n",
    "    x = re.sub(' +', ' ', x)\n",
    "    return x\n",
    "\n",
    "\n",
    "\n",
    "df['text'] = df['original_text'].apply(lambda x: prepare_full_text(x))\n",
    "df['length'] = df['text'].apply(lambda x:len(x))\n",
    "np.random.seed(77112)\n",
    "permutation = np.random.permutation(df.shape[0])\n",
    "df = df.loc[permutation].reset_index(drop=True)\n",
    "df.reset_index(inplace=True)\n",
    "df.head()\n",
    "\n",
    "df_train = df.iloc[:-20]\n",
    "df_validation = df.iloc[-20:]\n",
    "\n",
    "df_validation.type.value_counts()"
   ]
  },
  {
   "cell_type": "code",
   "execution_count": 9,
   "id": "653309c8-b441-4bf0-a73c-4c2a9e6c30e1",
   "metadata": {},
   "outputs": [],
   "source": [
    "def preprocessing_stroke(x):\n",
    "    text = x.replace('\\n',' ')\n",
    "    text = text.replace('\\t',' ')\n",
    "    text = text.replace('\\xa0',' ')\n",
    "    text = text.replace('\\t',' ')\n",
    "    text = text.replace('\\r',' ')\n",
    "    text = re.sub('[!@#$%^&*_+=\\;\\]\\[\\}\\{://|«»\"№\\d]', ' ', text)\n",
    "    text = re.sub('[\\(\\)]', ' ', text)\n",
    "    text = re.sub('-', '', text)\n",
    "    text = re.sub('[IVN]', ' ', text)\n",
    "    text = re.sub(' [габвт] ', '', text)\n",
    "    text = re.sub(' +', ' ', text)\n",
    "    text = text.strip()\n",
    "    return text\n",
    "\n",
    "def prepare_split_text(x):\n",
    "    string, text,n = '','',0\n",
    "    text = re.sub('п\\.','пункте ',text)\n",
    "    text = re.sub('ст\\.','статья ',text)\n",
    "    text = re.sub('ул\\.','улица ',text)\n",
    "    text = re.sub('т\\.ч','том числе ',text)\n",
    "    text = re.sub('г\\.',' город ',text)\n",
    "    texts = []\n",
    "    for t in x[0].split('.'):\n",
    "        string+=' '+t\n",
    "        text+=' '+t\n",
    "        if len(string)>100:\n",
    "            string = preprocessing_stroke(string)\n",
    "            if len(string)>100:\n",
    "                # print(text)\n",
    "                # print('-------------')\n",
    "                # print(string)\n",
    "                # print('########################')\n",
    "                texts.append({'index':x[2],\n",
    "                              'type':x[1],\n",
    "                              'original_text':text,\n",
    "                              'text':string,\n",
    "                              'n':n})\n",
    "                string=''\n",
    "                text=''\n",
    "                n+=1\n",
    "            \n",
    "    return texts\n",
    "\n",
    "train_sentences = df_train[['original_text','type','index']].apply(lambda x:prepare_split_text(x),axis=1)\n",
    "train_sentences = pd.DataFrame.from_records(np.hstack([np.array(d) for d in train_sentences.values]))\n",
    "\n",
    "val_sentences = df_validation[['original_text','type','index']].apply(lambda x:prepare_split_text(x),axis=1)\n",
    "val_sentences = pd.DataFrame.from_records(np.hstack([np.array(d) for d in val_sentences.values]))"
   ]
  },
  {
   "cell_type": "code",
   "execution_count": 10,
   "id": "21b49d94-bc04-401e-a969-df27b285b598",
   "metadata": {},
   "outputs": [
    {
     "data": {
      "text/html": [
       "<div>\n",
       "<style scoped>\n",
       "    .dataframe tbody tr th:only-of-type {\n",
       "        vertical-align: middle;\n",
       "    }\n",
       "\n",
       "    .dataframe tbody tr th {\n",
       "        vertical-align: top;\n",
       "    }\n",
       "\n",
       "    .dataframe thead th {\n",
       "        text-align: right;\n",
       "    }\n",
       "</style>\n",
       "<table border=\"1\" class=\"dataframe\">\n",
       "  <thead>\n",
       "    <tr style=\"text-align: right;\">\n",
       "      <th></th>\n",
       "      <th>index</th>\n",
       "      <th>type</th>\n",
       "      <th>original_text</th>\n",
       "      <th>text</th>\n",
       "      <th>n</th>\n",
       "    </tr>\n",
       "  </thead>\n",
       "  <tbody>\n",
       "    <tr>\n",
       "      <th>0</th>\n",
       "      <td>0</td>\n",
       "      <td>0</td>\n",
       "      <td>\\n                                           ...</td>\n",
       "      <td>Примерная форма договора поставки продовольств...</td>\n",
       "      <td>0</td>\n",
       "    </tr>\n",
       "    <tr>\n",
       "      <th>1</th>\n",
       "      <td>0</td>\n",
       "      <td>0</td>\n",
       "      <td>И О),   действующего   на\\nосновании  (Устава...</td>\n",
       "      <td>И О , действующего на основании Устава, довере...</td>\n",
       "      <td>1</td>\n",
       "    </tr>\n",
       "    <tr>\n",
       "      <th>2</th>\n",
       "      <td>0</td>\n",
       "      <td>0</td>\n",
       "      <td>И О),   действующего   на   основании    (Уст...</td>\n",
       "      <td>И О , действующего на основании Устава, довере...</td>\n",
       "      <td>2</td>\n",
       "    </tr>\n",
       "    <tr>\n",
       "      <th>3</th>\n",
       "      <td>0</td>\n",
       "      <td>0</td>\n",
       "      <td>Предмет договора\\n\\n      1 1  Поставщик  об...</td>\n",
       "      <td>Предмет договора Поставщик обязуется поставлят...</td>\n",
       "      <td>3</td>\n",
       "    </tr>\n",
       "    <tr>\n",
       "      <th>4</th>\n",
       "      <td>0</td>\n",
       "      <td>0</td>\n",
       "      <td>\\n      1 2  Покупатель обязуется принимать п...</td>\n",
       "      <td>Покупатель обязуется принимать поставляемый по...</td>\n",
       "      <td>4</td>\n",
       "    </tr>\n",
       "    <tr>\n",
       "      <th>...</th>\n",
       "      <td>...</td>\n",
       "      <td>...</td>\n",
       "      <td>...</td>\n",
       "      <td>...</td>\n",
       "      <td>...</td>\n",
       "    </tr>\n",
       "    <tr>\n",
       "      <th>5791</th>\n",
       "      <td>99</td>\n",
       "      <td>2</td>\n",
       "      <td>\\n\\n12 5  Стороны обязуются информировать дру...</td>\n",
       "      <td>Стороны обязуются информировать друг друга об ...</td>\n",
       "      <td>169</td>\n",
       "    </tr>\n",
       "    <tr>\n",
       "      <th>5792</th>\n",
       "      <td>99</td>\n",
       "      <td>2</td>\n",
       "      <td>\\n\\n12 6  В случае реорганизации Стороны ее п...</td>\n",
       "      <td>В случае реорганизации Стороны ее права и обяз...</td>\n",
       "      <td>170</td>\n",
       "    </tr>\n",
       "    <tr>\n",
       "      <th>5793</th>\n",
       "      <td>99</td>\n",
       "      <td>2</td>\n",
       "      <td>\\n\\n12 7  Настоящий Договор составлен в 2 (...</td>\n",
       "      <td>Настоящий Договор составлен двух экземплярах н...</td>\n",
       "      <td>171</td>\n",
       "    </tr>\n",
       "    <tr>\n",
       "      <th>5794</th>\n",
       "      <td>99</td>\n",
       "      <td>2</td>\n",
       "      <td>\\n\\n12 8  Листы настоящего договора пронумеро...</td>\n",
       "      <td>Листы настоящего договора пронумерованы, сшиты...</td>\n",
       "      <td>172</td>\n",
       "    </tr>\n",
       "    <tr>\n",
       "      <th>5795</th>\n",
       "      <td>99</td>\n",
       "      <td>2</td>\n",
       "      <td>\\n\\n12 9  Обязательными приложениями к Догово...</td>\n",
       "      <td>Обязательными приложениями к Договору являются...</td>\n",
       "      <td>173</td>\n",
       "    </tr>\n",
       "  </tbody>\n",
       "</table>\n",
       "<p>5796 rows × 5 columns</p>\n",
       "</div>"
      ],
      "text/plain": [
       "      index  type                                      original_text  \\\n",
       "0         0     0   \\n                                           ...   \n",
       "1         0     0   И О),   действующего   на\\nосновании  (Устава...   \n",
       "2         0     0   И О),   действующего   на   основании    (Уст...   \n",
       "3         0     0    Предмет договора\\n\\n      1 1  Поставщик  об...   \n",
       "4         0     0   \\n      1 2  Покупатель обязуется принимать п...   \n",
       "...     ...   ...                                                ...   \n",
       "5791     99     2   \\n\\n12 5  Стороны обязуются информировать дру...   \n",
       "5792     99     2   \\n\\n12 6  В случае реорганизации Стороны ее п...   \n",
       "5793     99     2     \\n\\n12 7  Настоящий Договор составлен в 2 (...   \n",
       "5794     99     2   \\n\\n12 8  Листы настоящего договора пронумеро...   \n",
       "5795     99     2   \\n\\n12 9  Обязательными приложениями к Догово...   \n",
       "\n",
       "                                                   text    n  \n",
       "0     Примерная форма договора поставки продовольств...    0  \n",
       "1     И О , действующего на основании Устава, довере...    1  \n",
       "2     И О , действующего на основании Устава, довере...    2  \n",
       "3     Предмет договора Поставщик обязуется поставлят...    3  \n",
       "4     Покупатель обязуется принимать поставляемый по...    4  \n",
       "...                                                 ...  ...  \n",
       "5791  Стороны обязуются информировать друг друга об ...  169  \n",
       "5792  В случае реорганизации Стороны ее права и обяз...  170  \n",
       "5793  Настоящий Договор составлен двух экземплярах н...  171  \n",
       "5794  Листы настоящего договора пронумерованы, сшиты...  172  \n",
       "5795  Обязательными приложениями к Договору являются...  173  \n",
       "\n",
       "[5796 rows x 5 columns]"
      ]
     },
     "execution_count": 10,
     "metadata": {},
     "output_type": "execute_result"
    }
   ],
   "source": [
    "train_sentences"
   ]
  },
  {
   "cell_type": "code",
   "execution_count": 11,
   "id": "28a444bf-213c-4554-a659-4db7302320d8",
   "metadata": {},
   "outputs": [],
   "source": [
    "from imblearn.under_sampling import RandomUnderSampler\n",
    "\n",
    "rus = RandomUnderSampler(sampling_strategy='not minority', random_state=1)\n",
    "train_df_balanced, balanced_labels = rus.fit_resample(train_sentences, train_sentences['type'])"
   ]
  },
  {
   "cell_type": "code",
   "execution_count": 12,
   "id": "ab495127-da0f-418a-834e-a60ae295d8a1",
   "metadata": {},
   "outputs": [],
   "source": [
    "#split data to train/test\n",
    "\n",
    "from sklearn.utils import resample\n",
    "from sklearn.model_selection import train_test_split\n",
    "\n",
    "X_train, X_test, y_train, y_test = train_test_split(list(train_df_balanced['text']), list(train_df_balanced['type']), test_size=0.1, random_state=77112)"
   ]
  },
  {
   "cell_type": "code",
   "execution_count": 13,
   "id": "a1f51fb5-c8ec-4bca-8300-39201149683a",
   "metadata": {},
   "outputs": [],
   "source": [
    "from torch.utils.data import Dataset\n",
    "\n",
    "class CustomDataset(Dataset):\n",
    "\n",
    "  def __init__(self, texts, targets, tokenizer, max_len=512):\n",
    "    self.texts = texts\n",
    "    self.targets = targets\n",
    "    self.tokenizer = tokenizer\n",
    "    self.max_len = max_len\n",
    "\n",
    "  def __len__(self):\n",
    "    return len(self.texts)\n",
    "\n",
    "  def __getitem__(self, idx):\n",
    "    text = str(self.texts[idx])\n",
    "    target = self.targets[idx]\n",
    "\n",
    "    encoding = self.tokenizer.encode_plus(\n",
    "        text,\n",
    "        add_special_tokens=True,\n",
    "        max_length=self.max_len,\n",
    "        return_token_type_ids=False,\n",
    "        padding='max_length',\n",
    "        return_attention_mask=True,\n",
    "        return_tensors='pt',\n",
    "    )\n",
    "\n",
    "    return {\n",
    "      'text': text,\n",
    "      'input_ids': encoding['input_ids'].flatten(),\n",
    "      'attention_mask': encoding['attention_mask'].flatten(),\n",
    "      'targets': torch.tensor(target, dtype=torch.long)\n",
    "    }"
   ]
  },
  {
   "cell_type": "code",
   "execution_count": 14,
   "id": "b70ee147-2dba-4060-af14-e2d926397e9e",
   "metadata": {},
   "outputs": [],
   "source": [
    "#Bert Classifier class\n",
    "\n",
    "class BertClassifier:\n",
    "\n",
    "    def __init__(self, model_path, tokenizer_path, n_classes=2, epochs=1, model_save_path='/content/bert.pt'):\n",
    "        self.model = BertForSequenceClassification.from_pretrained(model_path)\n",
    "        self.tokenizer = BertTokenizer.from_pretrained(tokenizer_path)\n",
    "        self.device = torch.device(\"cuda:0\" if torch.cuda.is_available() else \"cpu\")\n",
    "        self.model_save_path=model_save_path\n",
    "        self.max_len = 512\n",
    "        self.epochs = epochs\n",
    "        self.out_features = self.model.bert.encoder.layer[1].output.dense.out_features\n",
    "        self.model.classifier = torch.nn.Linear(self.out_features, n_classes)\n",
    "        self.model.to(self.device)\n",
    "    \n",
    "    def preparation(self, X_train, y_train, X_valid, y_valid):\n",
    "        # create datasets\n",
    "        self.train_set = CustomDataset(X_train, y_train, self.tokenizer)\n",
    "        self.valid_set = CustomDataset(X_valid, y_valid, self.tokenizer)\n",
    "\n",
    "        # create data loaders\n",
    "        self.train_loader = DataLoader(self.train_set, batch_size=8, shuffle=True)\n",
    "        self.valid_loader = DataLoader(self.valid_set, batch_size=8, shuffle=True)\n",
    "\n",
    "        # helpers initialization\n",
    "        self.optimizer = AdamW(self.model.parameters(), lr=2e-5, correct_bias=False)\n",
    "        self.scheduler = get_linear_schedule_with_warmup(\n",
    "                self.optimizer,\n",
    "                num_warmup_steps=0,\n",
    "                num_training_steps=len(self.train_loader) * self.epochs\n",
    "            )\n",
    "        self.loss_fn = torch.nn.CrossEntropyLoss().to(self.device)\n",
    "            \n",
    "    def fit(self):\n",
    "        self.model = self.model.train()\n",
    "        losses = []\n",
    "        correct_predictions = 0\n",
    "\n",
    "        for data in tqdm(self.train_loader):\n",
    "            input_ids = data[\"input_ids\"].to(self.device)\n",
    "            attention_mask = data[\"attention_mask\"].to(self.device)\n",
    "            targets = data[\"targets\"].to(self.device)\n",
    "\n",
    "            outputs = self.model(\n",
    "                input_ids=input_ids,\n",
    "                attention_mask=attention_mask\n",
    "                )\n",
    "\n",
    "            preds = torch.argmax(outputs.logits, dim=1)\n",
    "            loss = self.loss_fn(outputs.logits, targets)\n",
    "\n",
    "            correct_predictions += torch.sum(preds == targets)\n",
    "\n",
    "            losses.append(loss.item())\n",
    "            \n",
    "            loss.backward()\n",
    "            torch.nn.utils.clip_grad_norm_(self.model.parameters(), max_norm=1.0)\n",
    "            self.optimizer.step()\n",
    "            self.scheduler.step()\n",
    "            self.optimizer.zero_grad()\n",
    "\n",
    "        train_acc = correct_predictions.double() / len(self.train_set)\n",
    "        train_loss = np.mean(losses)\n",
    "        return train_acc, train_loss\n",
    "    \n",
    "    def eval(self):\n",
    "        self.model = self.model.eval()\n",
    "        losses = []\n",
    "        correct_predictions = 0\n",
    "\n",
    "        with torch.no_grad():\n",
    "            for data in self.valid_loader:\n",
    "                input_ids = data[\"input_ids\"].to(self.device)\n",
    "                attention_mask = data[\"attention_mask\"].to(self.device)\n",
    "                targets = data[\"targets\"].to(self.device)\n",
    "\n",
    "                outputs = self.model(\n",
    "                    input_ids=input_ids,\n",
    "                    attention_mask=attention_mask\n",
    "                    )\n",
    "\n",
    "                preds = torch.argmax(outputs.logits, dim=1)\n",
    "                loss = self.loss_fn(outputs.logits, targets)\n",
    "                correct_predictions += torch.sum(preds == targets)\n",
    "                losses.append(loss.item())\n",
    "        \n",
    "        val_acc = correct_predictions.double() / len(self.valid_set)\n",
    "        val_loss = np.mean(losses)\n",
    "        return val_acc, val_loss\n",
    "    \n",
    "    def train(self):\n",
    "        best_accuracy = 0\n",
    "        for epoch in range(self.epochs):\n",
    "            print(f'Epoch {epoch + 1}/{self.epochs}')\n",
    "            train_acc, train_loss = self.fit()\n",
    "            print(f'Train loss {train_loss} accuracy {train_acc}')\n",
    "\n",
    "            val_acc, val_loss = self.eval()\n",
    "            print(f'Val loss {val_loss} accuracy {val_acc}')\n",
    "            print('-' * 10)\n",
    "\n",
    "            if val_acc > best_accuracy:\n",
    "                torch.save(self.model, self.model_save_path)\n",
    "                best_accuracy = val_acc\n",
    "\n",
    "        self.model = torch.load(self.model_save_path)\n",
    "    \n",
    "    def predict(self, text):\n",
    "        encoding = self.tokenizer.encode_plus(\n",
    "            text,\n",
    "            add_special_tokens=True,\n",
    "            max_length=self.max_len,\n",
    "            return_token_type_ids=False,\n",
    "            truncation=True,\n",
    "            padding='max_length',\n",
    "            return_attention_mask=True,\n",
    "            return_tensors='pt',\n",
    "        )\n",
    "        \n",
    "        out = {\n",
    "              'text': text,\n",
    "              'input_ids': encoding['input_ids'].flatten(),\n",
    "              'attention_mask': encoding['attention_mask'].flatten()\n",
    "          }\n",
    "        \n",
    "        input_ids = out[\"input_ids\"].to(self.device)\n",
    "        attention_mask = out[\"attention_mask\"].to(self.device)\n",
    "        \n",
    "        outputs = self.model(\n",
    "            input_ids=input_ids.unsqueeze(0),\n",
    "            attention_mask=attention_mask.unsqueeze(0)\n",
    "        )\n",
    "        \n",
    "        prediction = torch.argmax(outputs.logits, dim=1).cpu().numpy()[0]\n",
    "\n",
    "        return prediction"
   ]
  },
  {
   "cell_type": "code",
   "execution_count": 15,
   "id": "b4f4b30c-ad49-49ed-975e-425c10db7b24",
   "metadata": {},
   "outputs": [
    {
     "data": {
      "application/vnd.jupyter.widget-view+json": {
       "model_id": "e39ce472bff04cdf96894f109d3d4cc5",
       "version_major": 2,
       "version_minor": 0
      },
      "text/plain": [
       "Downloading:   0%|          | 0.00/715 [00:00<?, ?B/s]"
      ]
     },
     "metadata": {},
     "output_type": "display_data"
    },
    {
     "data": {
      "application/vnd.jupyter.widget-view+json": {
       "model_id": "ade1ffddd3e443eeac9ab8b78784e280",
       "version_major": 2,
       "version_minor": 0
      },
      "text/plain": [
       "Downloading:   0%|          | 0.00/112M [00:00<?, ?B/s]"
      ]
     },
     "metadata": {},
     "output_type": "display_data"
    },
    {
     "name": "stderr",
     "output_type": "stream",
     "text": [
      "Some weights of the model checkpoint at cointegrated/rubert-tiny2 were not used when initializing BertForSequenceClassification: ['cls.predictions.bias', 'cls.predictions.transform.LayerNorm.weight', 'cls.predictions.transform.LayerNorm.bias', 'cls.seq_relationship.weight', 'cls.predictions.decoder.weight', 'cls.predictions.transform.dense.weight', 'cls.predictions.transform.dense.bias', 'cls.seq_relationship.bias', 'cls.predictions.decoder.bias']\n",
      "- This IS expected if you are initializing BertForSequenceClassification from the checkpoint of a model trained on another task or with another architecture (e.g. initializing a BertForSequenceClassification model from a BertForPreTraining model).\n",
      "- This IS NOT expected if you are initializing BertForSequenceClassification from the checkpoint of a model that you expect to be exactly identical (initializing a BertForSequenceClassification model from a BertForSequenceClassification model).\n",
      "Some weights of BertForSequenceClassification were not initialized from the model checkpoint at cointegrated/rubert-tiny2 and are newly initialized: ['classifier.bias', 'classifier.weight']\n",
      "You should probably TRAIN this model on a down-stream task to be able to use it for predictions and inference.\n"
     ]
    },
    {
     "data": {
      "application/vnd.jupyter.widget-view+json": {
       "model_id": "623e6a25c7e1441cb4e897380f2c80c1",
       "version_major": 2,
       "version_minor": 0
      },
      "text/plain": [
       "Downloading:   0%|          | 0.00/1.03M [00:00<?, ?B/s]"
      ]
     },
     "metadata": {},
     "output_type": "display_data"
    },
    {
     "data": {
      "application/vnd.jupyter.widget-view+json": {
       "model_id": "1bdfc057ae124efd9a1353616e91ae44",
       "version_major": 2,
       "version_minor": 0
      },
      "text/plain": [
       "Downloading:   0%|          | 0.00/112 [00:00<?, ?B/s]"
      ]
     },
     "metadata": {},
     "output_type": "display_data"
    },
    {
     "data": {
      "application/vnd.jupyter.widget-view+json": {
       "model_id": "0789ab3eb1514c9f96685e157c3fba94",
       "version_major": 2,
       "version_minor": 0
      },
      "text/plain": [
       "Downloading:   0%|          | 0.00/401 [00:00<?, ?B/s]"
      ]
     },
     "metadata": {},
     "output_type": "display_data"
    }
   ],
   "source": [
    "import numpy as np\n",
    "import torch\n",
    "from transformers import BertTokenizer, BertForSequenceClassification\n",
    "from torch.utils.data import Dataset, DataLoader\n",
    "from transformers import AdamW, get_linear_schedule_with_warmup\n",
    "\n",
    "classifier = BertClassifier(\n",
    "        model_path='cointegrated/rubert-tiny2',\n",
    "        tokenizer_path='cointegrated/rubert-tiny2',\n",
    "        n_classes=5,\n",
    "        epochs=10,\n",
    "        model_save_path='bert_fit_models/bert-tiny.pt'\n",
    ")"
   ]
  },
  {
   "cell_type": "code",
   "execution_count": 16,
   "id": "357365a1-cacb-4fa9-abc2-cfb410282867",
   "metadata": {},
   "outputs": [
    {
     "name": "stderr",
     "output_type": "stream",
     "text": [
      "/usr/local/lib/python3.9/dist-packages/transformers/optimization.py:306: FutureWarning: This implementation of AdamW is deprecated and will be removed in a future version. Use the PyTorch implementation torch.optim.AdamW instead, or set `no_deprecation_warning=True` to disable this warning\n",
      "  warnings.warn(\n"
     ]
    }
   ],
   "source": [
    "#prepare data to classification\n",
    "classifier.preparation(\n",
    "        X_train=list(X_train),\n",
    "        y_train=list(y_train),\n",
    "        X_valid=list(X_test),\n",
    "        y_valid=list(y_test),\n",
    "    )"
   ]
  },
  {
   "cell_type": "code",
   "execution_count": 17,
   "id": "e80a24d9-f27c-494b-aecc-0069a142471f",
   "metadata": {},
   "outputs": [
    {
     "name": "stdout",
     "output_type": "stream",
     "text": [
      "Epoch 1/10\n"
     ]
    },
    {
     "name": "stderr",
     "output_type": "stream",
     "text": [
      "100%|██████████| 443/443 [00:20<00:00, 21.33it/s]\n"
     ]
    },
    {
     "name": "stdout",
     "output_type": "stream",
     "text": [
      "Train loss 0.7891794206242394 accuracy 0.6929601357082272\n",
      "Val loss 0.5887272193282843 accuracy 0.7379134860050891\n",
      "----------\n",
      "Epoch 2/10\n"
     ]
    },
    {
     "name": "stderr",
     "output_type": "stream",
     "text": [
      "100%|██████████| 443/443 [00:20<00:00, 22.12it/s]\n"
     ]
    },
    {
     "name": "stdout",
     "output_type": "stream",
     "text": [
      "Train loss 0.49965720956316784 accuracy 0.8088775798699462\n",
      "Val loss 0.6485060533136129 accuracy 0.7608142493638678\n",
      "----------\n",
      "Epoch 3/10\n"
     ]
    },
    {
     "name": "stderr",
     "output_type": "stream",
     "text": [
      "100%|██████████| 443/443 [00:20<00:00, 21.83it/s]\n"
     ]
    },
    {
     "name": "stdout",
     "output_type": "stream",
     "text": [
      "Train loss 0.4122532189951928 accuracy 0.8445009895391574\n",
      "Val loss 0.6195140673220157 accuracy 0.7760814249363869\n",
      "----------\n",
      "Epoch 4/10\n"
     ]
    },
    {
     "name": "stderr",
     "output_type": "stream",
     "text": [
      "100%|██████████| 443/443 [00:20<00:00, 21.80it/s]\n"
     ]
    },
    {
     "name": "stdout",
     "output_type": "stream",
     "text": [
      "Train loss 0.35073749812290445 accuracy 0.870794458580718\n",
      "Val loss 0.6463961733691395 accuracy 0.7684478371501273\n",
      "----------\n",
      "Epoch 5/10\n"
     ]
    },
    {
     "name": "stderr",
     "output_type": "stream",
     "text": [
      "100%|██████████| 443/443 [00:20<00:00, 21.89it/s]\n"
     ]
    },
    {
     "name": "stdout",
     "output_type": "stream",
     "text": [
      "Train loss 0.3035924347836533 accuracy 0.8903025162567146\n",
      "Val loss 0.7103780485410244 accuracy 0.7760814249363869\n",
      "----------\n",
      "Epoch 6/10\n"
     ]
    },
    {
     "name": "stderr",
     "output_type": "stream",
     "text": [
      "100%|██████████| 443/443 [00:20<00:00, 21.96it/s]\n"
     ]
    },
    {
     "name": "stdout",
     "output_type": "stream",
     "text": [
      "Train loss 0.2699168738793439 accuracy 0.902742437093582\n",
      "Val loss 0.7250467628240586 accuracy 0.7837150127226463\n",
      "----------\n",
      "Epoch 7/10\n"
     ]
    },
    {
     "name": "stderr",
     "output_type": "stream",
     "text": [
      "100%|██████████| 443/443 [00:20<00:00, 21.98it/s]\n"
     ]
    },
    {
     "name": "stdout",
     "output_type": "stream",
     "text": [
      "Train loss 0.24530738019952067 accuracy 0.9134860050890584\n",
      "Val loss 0.7168953941855579 accuracy 0.7837150127226463\n",
      "----------\n",
      "Epoch 8/10\n"
     ]
    },
    {
     "name": "stderr",
     "output_type": "stream",
     "text": [
      "100%|██████████| 443/443 [00:20<00:00, 21.78it/s]\n"
     ]
    },
    {
     "name": "stdout",
     "output_type": "stream",
     "text": [
      "Train loss 0.22454539972250234 accuracy 0.9216850438224483\n",
      "Val loss 0.7426611346704886 accuracy 0.7837150127226463\n",
      "----------\n",
      "Epoch 9/10\n"
     ]
    },
    {
     "name": "stderr",
     "output_type": "stream",
     "text": [
      "100%|██████████| 443/443 [00:20<00:00, 21.82it/s]\n"
     ]
    },
    {
     "name": "stdout",
     "output_type": "stream",
     "text": [
      "Train loss 0.20894257075355113 accuracy 0.9287531806615775\n",
      "Val loss 0.8389386123698205 accuracy 0.7938931297709925\n",
      "----------\n",
      "Epoch 10/10\n"
     ]
    },
    {
     "name": "stderr",
     "output_type": "stream",
     "text": [
      "100%|██████████| 443/443 [00:20<00:00, 21.77it/s]\n"
     ]
    },
    {
     "name": "stdout",
     "output_type": "stream",
     "text": [
      "Train loss 0.20174615837225762 accuracy 0.9284704551880124\n",
      "Val loss 0.7689846875378862 accuracy 0.7837150127226463\n",
      "----------\n"
     ]
    }
   ],
   "source": [
    "#train\n",
    "classifier.train()"
   ]
  },
  {
   "cell_type": "code",
   "execution_count": 19,
   "id": "deff16c4-e227-4dcd-a931-dfd8f2f47c4f",
   "metadata": {},
   "outputs": [],
   "source": [
    "#load bert and truncate last layer\n",
    "#get the embeddings layer\n",
    "\n",
    "model = torch.load('bert_fit_models/bert-tiny.pt')\n",
    "model = model.bert\n",
    "model.to(device)\n",
    "pass\n",
    "\n",
    "#load tokenizer\n",
    "tokenizer = BertTokenizer.from_pretrained('cointegrated/rubert-tiny2')"
   ]
  },
  {
   "cell_type": "code",
   "execution_count": 20,
   "id": "ac795170-fb04-4e10-a36d-5a21adc57c17",
   "metadata": {},
   "outputs": [],
   "source": [
    "#get token and embedding functions\n",
    "\n",
    "def get_token(text):\n",
    "    return tokenizer.encode_plus(\n",
    "            text,\n",
    "            add_special_tokens=True,\n",
    "            max_length=512,\n",
    "            return_token_type_ids=False,\n",
    "            truncation=True,\n",
    "            padding='max_length',\n",
    "            return_attention_mask=True,\n",
    "            return_tensors='pt')\n",
    "\n",
    "def get_embeddings(text):\n",
    "    encoding = get_token(text)\n",
    "    out = {\n",
    "      'text': text,\n",
    "      'input_ids': encoding['input_ids'].flatten(),\n",
    "      'attention_mask': encoding['attention_mask'].flatten()\n",
    "      }\n",
    "\n",
    "    input_ids = out[\"input_ids\"].to(device)\n",
    "    attention_mask = out[\"attention_mask\"].to(device)\n",
    "\n",
    "    outputs = model(\n",
    "        input_ids=input_ids.unsqueeze(0),\n",
    "        attention_mask=attention_mask.unsqueeze(0)\n",
    "    )\n",
    "    return outputs[1].cpu().detach().numpy()[0]"
   ]
  },
  {
   "cell_type": "code",
   "execution_count": 21,
   "id": "055f82c9-8d80-47d9-91dc-4f99c3304ce2",
   "metadata": {},
   "outputs": [
    {
     "name": "stderr",
     "output_type": "stream",
     "text": [
      "100%|██████████| 5796/5796 [00:16<00:00, 352.52it/s]\n",
      "100%|██████████| 1134/1134 [00:03<00:00, 355.38it/s]\n"
     ]
    }
   ],
   "source": [
    "#get embeddings from text\n",
    "\n",
    "train_sentences['token'] = train_sentences.text.progress_apply(get_embeddings)\n",
    "val_sentences['token'] = val_sentences.text.progress_apply(get_embeddings)"
   ]
  },
  {
   "cell_type": "code",
   "execution_count": 22,
   "id": "92d1d15e-b5fa-4856-8a54-505a220dd271",
   "metadata": {},
   "outputs": [],
   "source": [
    "X_full = np.asarray([a for a in train_sentences['token'].values])\n",
    "y_full = train_sentences['type'].values.astype(int)\n",
    "\n",
    "X_val = np.asarray([a for a in val_sentences['token'].values])\n",
    "y_val = val_sentences['type'].values.astype(int)\n",
    "\n",
    "train_X, test_X, train_y, test_y = train_test_split(X_full, y_full, test_size=0.1, random_state=77112)"
   ]
  },
  {
   "cell_type": "code",
   "execution_count": 28,
   "id": "c0faf1a4-834f-4813-ad28-4d1d41b51056",
   "metadata": {},
   "outputs": [],
   "source": [
    "from sklearn.metrics import roc_auc_score\n",
    "\n",
    "def classes_plot(y_val,y_pred):\n",
    "    vd = pd.DataFrame([y_pred,y_val],index=['pred','real']).T\n",
    "    vd_pred_true = vd[vd.pred==vd.real].groupby(by='real').count()\n",
    "    vd_pred_all = vd.groupby(by='real').count()\n",
    "    vd_pred = pd.concat([vd_pred_true,vd_pred_all-vd_pred_true],axis=1)\n",
    "    # vd_pred.false[vd_pred.isna().iloc[:,0]]=vd.real[vd_pred.isna().iloc[:,0]].values\n",
    "    vd_pred.columns = ['true','false']\n",
    "    #print(vd_pred_all.pred[vd_pred.false.isna().values])\n",
    "    #print(vd_pred_true.pred[vd_pred_true[vd_pred.false.isna()]])\n",
    "    vd_pred.false[vd_pred.false.isna()]=vd_pred_all.pred[vd_pred.false.isna().values]\n",
    "    vd_pred = vd_pred.fillna(0)\n",
    "    vd_pred_sum = vd_pred.sum()\n",
    "    print(vd_pred_sum.true/(vd_pred_sum.true+vd_pred_sum.false))\n",
    "    return vd_pred.plot(kind='bar',stacked=True,color=['#66FF99','#ff6666'],rot=70)"
   ]
  },
  {
   "cell_type": "code",
   "execution_count": 29,
   "id": "fdc8437f-8575-4867-8ebf-18b6781980c6",
   "metadata": {},
   "outputs": [
    {
     "name": "stdout",
     "output_type": "stream",
     "text": [
      "0.8741379310344828\n"
     ]
    },
    {
     "data": {
      "text/plain": [
       "<AxesSubplot:xlabel='real'>"
      ]
     },
     "execution_count": 29,
     "metadata": {},
     "output_type": "execute_result"
    },
    {
     "data": {
      "image/png": "[encoded data removed]",
      "text/plain": [
       "<Figure size 432x288 with 1 Axes>"
      ]
     },
     "metadata": {
      "needs_background": "light"
     },
     "output_type": "display_data"
    }
   ],
   "source": [
    "#fit svc\n",
    "\n",
    "import numpy as np\n",
    "from sklearn.pipeline import make_pipeline\n",
    "from sklearn.preprocessing import StandardScaler\n",
    "from sklearn.metrics import f1_score\n",
    "\n",
    "from sklearn.svm import SVC\n",
    "clf = make_pipeline(StandardScaler(),\n",
    "                    SVC(gamma='auto', probability=True))\n",
    "clf.fit(train_X, train_y)\n",
    "test_y_pred = clf.predict(test_X)\n",
    "classes_plot(test_y, test_y_pred)"
   ]
  },
  {
   "cell_type": "code",
   "execution_count": 64,
   "id": "ee3fa40a-73c0-403e-9d73-6f7d64c329f0",
   "metadata": {},
   "outputs": [],
   "source": [
    "import pickle\n",
    "with open('svm.pickle', 'wb') as handle:\n",
    "    pickle.dump(clf, handle, protocol=pickle.HIGHEST_PROTOCOL)"
   ]
  },
  {
   "cell_type": "code",
   "execution_count": 36,
   "id": "0084f4ec-55a2-4f0d-80ef-f6bbe41f89c0",
   "metadata": {},
   "outputs": [
    {
     "name": "stdout",
     "output_type": "stream",
     "text": [
      "0.7319223985890653\n"
     ]
    },
    {
     "data": {
      "image/png": "[encoded data removed]",
      "text/plain": [
       "<Figure size 432x288 with 1 Axes>"
      ]
     },
     "metadata": {
      "needs_background": "light"
     },
     "output_type": "display_data"
    }
   ],
   "source": [
    "y_val_pred = clf.predict(X_val)\n",
    "classes_plot(y_val, y_val_pred)\n",
    "y_val_proba = clf.predict_proba(X_val)\n",
    "y_onehot_val = pd.get_dummies(y_val).values"
   ]
  },
  {
   "cell_type": "code",
   "execution_count": 37,
   "id": "7264fd44-d6bb-4207-800b-5dbf0a48ab11",
   "metadata": {},
   "outputs": [
    {
     "name": "stdout",
     "output_type": "stream",
     "text": [
      "Micro-averaged One-vs-Rest ROC AUC score:\n",
      "0.91\n"
     ]
    }
   ],
   "source": [
    "from sklearn.metrics import roc_curve, auc\n",
    "\n",
    "# store the fpr, tpr, and roc_auc for all averaging strategies\n",
    "fpr, tpr, roc_auc = dict(), dict(), dict()\n",
    "# Compute micro-average ROC curve and ROC area\n",
    "fpr[\"micro\"], tpr[\"micro\"], _ = roc_curve(y_onehot_val.ravel(), y_val_proba.ravel())\n",
    "roc_auc[\"micro\"] = auc(fpr[\"micro\"], tpr[\"micro\"])\n",
    "\n",
    "print(f\"Micro-averaged One-vs-Rest ROC AUC score:\\n{roc_auc['micro']:.2f}\")"
   ]
  },
  {
   "cell_type": "code",
   "execution_count": 41,
   "id": "bc2b7902-7f92-41a4-907e-a4d97b2f7db7",
   "metadata": {},
   "outputs": [
    {
     "name": "stdout",
     "output_type": "stream",
     "text": [
      "Macro-averaged One-vs-Rest ROC AUC score:\n",
      "0.92\n"
     ]
    }
   ],
   "source": [
    "for i in range(5):\n",
    "    fpr[i], tpr[i], _ = roc_curve(y_onehot_val[:, i], y_val_proba[:, i])\n",
    "    roc_auc[i] = auc(fpr[i], tpr[i])\n",
    "\n",
    "fpr_grid = np.linspace(0.0, 1.0, 1000)\n",
    "\n",
    "# Interpolate all ROC curves at these points\n",
    "mean_tpr = np.zeros_like(fpr_grid)\n",
    "\n",
    "for i in range(5):\n",
    "    mean_tpr += np.interp(fpr_grid, fpr[i], tpr[i])  # linear interpolation\n",
    "\n",
    "# Average it and compute AUC\n",
    "mean_tpr /= 5\n",
    "\n",
    "fpr[\"macro\"] = fpr_grid\n",
    "tpr[\"macro\"] = mean_tpr\n",
    "roc_auc[\"macro\"] = auc(fpr[\"macro\"], tpr[\"macro\"])\n",
    "\n",
    "print(f\"Macro-averaged One-vs-Rest ROC AUC score:\\n{roc_auc['macro']:.2f}\")"
   ]
  },
  {
   "cell_type": "code",
   "execution_count": 42,
   "id": "4fe423f0-1618-4c53-bacf-d163b97000c3",
   "metadata": {},
   "outputs": [
    {
     "name": "stdout",
     "output_type": "stream",
     "text": [
      "Macro-averaged One-vs-Rest ROC AUC score:\n",
      "0.92\n"
     ]
    }
   ],
   "source": [
    "macro_roc_auc_ovr = roc_auc_score(\n",
    "    y_val,\n",
    "    y_val_proba,\n",
    "    multi_class=\"ovr\",\n",
    "    average=\"macro\",\n",
    ")\n",
    "\n",
    "print(f\"Macro-averaged One-vs-Rest ROC AUC score:\\n{macro_roc_auc_ovr:.2f}\")"
   ]
  },
  {
   "cell_type": "code",
   "execution_count": 49,
   "id": "8ce4e166-4b6c-45da-a387-a41e8834299d",
   "metadata": {},
   "outputs": [
    {
     "data": {
      "image/png": "[encoded data removed]",
      "text/plain": [
       "<Figure size 432x432 with 1 Axes>"
      ]
     },
     "metadata": {
      "needs_background": "light"
     },
     "output_type": "display_data"
    }
   ],
   "source": [
    "from itertools import cycle\n",
    "import matplotlib.pyplot as plt\n",
    "from sklearn.metrics import RocCurveDisplay\n",
    "\n",
    "fig, ax = plt.subplots(figsize=(6, 6))\n",
    "\n",
    "plt.plot(\n",
    "    fpr[\"micro\"],\n",
    "    tpr[\"micro\"],\n",
    "    label=f\"micro-average ROC curve (AUC = {roc_auc['micro']:.2f})\",\n",
    "    color=\"deeppink\",\n",
    "    linestyle=\":\",\n",
    "    linewidth=4,\n",
    ")\n",
    "\n",
    "plt.plot(\n",
    "    fpr[\"macro\"],\n",
    "    tpr[\"macro\"],\n",
    "    label=f\"macro-average ROC curve (AUC = {roc_auc['macro']:.2f})\",\n",
    "    color=\"navy\",\n",
    "    linestyle=\":\",\n",
    "    linewidth=4,\n",
    ")\n",
    "\n",
    "colors = cycle([\"aqua\", \"darkorange\", \"cornflowerblue\"])\n",
    "for class_id, color in zip(range(5), colors):\n",
    "    RocCurveDisplay.from_predictions(\n",
    "        y_onehot_val[:, class_id],\n",
    "        y_val_proba[:, class_id],\n",
    "        name=f\"ROC curve for {class_id}\",\n",
    "        color=color,\n",
    "        ax=ax,\n",
    "    )\n",
    "\n",
    "plt.plot([0, 1], [0, 1], \"k--\", label=\"ROC curve for chance level (AUC = 0.5)\")\n",
    "plt.axis(\"square\")\n",
    "plt.xlabel(\"False Positive Rate\")\n",
    "plt.ylabel(\"True Positive Rate\")\n",
    "plt.title(\"Extension of Receiver Operating Characteristic\\nto One-vs-Rest multiclass\")\n",
    "plt.legend()\n",
    "plt.show()"
   ]
  },
  {
   "cell_type": "code",
   "execution_count": 59,
   "id": "99b59f52-5fd8-46ba-b5a8-144c9ad78a25",
   "metadata": {},
   "outputs": [],
   "source": [
    "sentences = df[['original_text','type','index']].apply(lambda x:prepare_split_text(x),axis=1)\n",
    "sentences = pd.DataFrame.from_records(np.hstack([np.array(d) for d in sentences.values]))\n",
    "sentences = pd.merge(df[['index','doc']],sentences)"
   ]
  },
  {
   "cell_type": "code",
   "execution_count": 60,
   "id": "8c883214-b074-4ddf-b6f8-45e939ac54a2",
   "metadata": {},
   "outputs": [
    {
     "name": "stderr",
     "output_type": "stream",
     "text": [
      "100%|██████████| 6930/6930 [00:19<00:00, 356.01it/s]\n"
     ]
    }
   ],
   "source": [
    "sentences['token'] = sentences.text.progress_apply(get_embeddings)"
   ]
  },
  {
   "cell_type": "code",
   "execution_count": 88,
   "id": "aa1c8422-9588-4177-8f56-108795ed691d",
   "metadata": {},
   "outputs": [],
   "source": [
    "token_data = np.asarray([a for a in sentences['token'].values])\n",
    "\n",
    "full_predict = clf.predict_proba(token_data)\n",
    "sentences['type_pred'] = np.argmax(full_predict,axis=1)\n",
    "sentences['type_pred_proba'] = [d[0][d[1]] for d in zip(full_predict,np.argmax(full_predict,axis=1))]"
   ]
  },
  {
   "cell_type": "code",
   "execution_count": 224,
   "id": "23b1e0a2-c2a0-4f06-8dc3-e2b7d74f7bd5",
   "metadata": {},
   "outputs": [],
   "source": [
    "doc_full = sentences.groupby(by=['doc'],as_index=False).type_pred.value_counts().drop_duplicates(['doc']).reset_index(drop=True)\n",
    "doc_full['type_true'] = sentences.groupby(by=['doc'],as_index=False).type.value_counts()['type']\n",
    "doc_full['true_count'] = sentences.groupby(by=['doc'],as_index=False).type.value_counts()['count']\n",
    "doc_full['pred_confidence'] = doc_full['count']/doc_full['true_count']"
   ]
  },
  {
   "cell_type": "code",
   "execution_count": 197,
   "id": "efa04383-ec1f-4c68-ac41-699292127e7b",
   "metadata": {},
   "outputs": [
    {
     "data": {
      "text/plain": [
       "True     119\n",
       "False      1\n",
       "dtype: int64"
      ]
     },
     "execution_count": 197,
     "metadata": {},
     "output_type": "execute_result"
    }
   ],
   "source": [
    "(doc_full['type_pred']==doc_full['type_true']).value_counts()"
   ]
  },
  {
   "cell_type": "code",
   "execution_count": 208,
   "id": "22140c6b-7238-4e7c-9862-fd3ddb25e985",
   "metadata": {},
   "outputs": [
    {
     "data": {
      "text/html": [
       "<div>\n",
       "<style scoped>\n",
       "    .dataframe tbody tr th:only-of-type {\n",
       "        vertical-align: middle;\n",
       "    }\n",
       "\n",
       "    .dataframe tbody tr th {\n",
       "        vertical-align: top;\n",
       "    }\n",
       "\n",
       "    .dataframe thead th {\n",
       "        text-align: right;\n",
       "    }\n",
       "</style>\n",
       "<table border=\"1\" class=\"dataframe\">\n",
       "  <thead>\n",
       "    <tr style=\"text-align: right;\">\n",
       "      <th></th>\n",
       "      <th>doc</th>\n",
       "      <th>type_pred</th>\n",
       "      <th>count</th>\n",
       "      <th>type_true</th>\n",
       "      <th>true_count</th>\n",
       "    </tr>\n",
       "  </thead>\n",
       "  <tbody>\n",
       "    <tr>\n",
       "      <th>52</th>\n",
       "      <td>67170dee29deff9bc80087a94aef7ea4.doc</td>\n",
       "      <td>2</td>\n",
       "      <td>46</td>\n",
       "      <td>1</td>\n",
       "      <td>91</td>\n",
       "    </tr>\n",
       "  </tbody>\n",
       "</table>\n",
       "</div>"
      ],
      "text/plain": [
       "                                     doc  type_pred  count  type_true  \\\n",
       "52  67170dee29deff9bc80087a94aef7ea4.doc          2     46          1   \n",
       "\n",
       "    true_count  \n",
       "52          91  "
      ]
     },
     "execution_count": 208,
     "metadata": {},
     "output_type": "execute_result"
    }
   ],
   "source": [
    "doc_full[doc_full['type_pred']!=doc_full['type_true']]"
   ]
  },
  {
   "cell_type": "code",
   "execution_count": 206,
   "id": "85098022-ffd7-48ac-a682-02ccad4d564d",
   "metadata": {},
   "outputs": [
    {
     "data": {
      "text/html": [
       "<div>\n",
       "<style scoped>\n",
       "    .dataframe tbody tr th:only-of-type {\n",
       "        vertical-align: middle;\n",
       "    }\n",
       "\n",
       "    .dataframe tbody tr th {\n",
       "        vertical-align: top;\n",
       "    }\n",
       "\n",
       "    .dataframe thead th {\n",
       "        text-align: right;\n",
       "    }\n",
       "</style>\n",
       "<table border=\"1\" class=\"dataframe\">\n",
       "  <thead>\n",
       "    <tr style=\"text-align: right;\">\n",
       "      <th></th>\n",
       "      <th>index</th>\n",
       "      <th>doc</th>\n",
       "      <th>class_name</th>\n",
       "      <th>type</th>\n",
       "      <th>original_text</th>\n",
       "      <th>text</th>\n",
       "      <th>length</th>\n",
       "    </tr>\n",
       "  </thead>\n",
       "  <tbody>\n",
       "    <tr>\n",
       "      <th>28</th>\n",
       "      <td>28</td>\n",
       "      <td>67170dee29deff9bc80087a94aef7ea4.doc</td>\n",
       "      <td>Договоры для акселератора/Договоры оказания услуг</td>\n",
       "      <td>1</td>\n",
       "      <td>\\n\\n                                Договор № ...</td>\n",
       "      <td>Договор № __г. Москва «__» _________ 2020 г.З...</td>\n",
       "      <td>18628</td>\n",
       "    </tr>\n",
       "  </tbody>\n",
       "</table>\n",
       "</div>"
      ],
      "text/plain": [
       "    index                                   doc  \\\n",
       "28     28  67170dee29deff9bc80087a94aef7ea4.doc   \n",
       "\n",
       "                                           class_name  type  \\\n",
       "28  Договоры для акселератора/Договоры оказания услуг     1   \n",
       "\n",
       "                                        original_text  \\\n",
       "28  \\n\\n                                Договор № ...   \n",
       "\n",
       "                                                 text  length  \n",
       "28   Договор № __г. Москва «__» _________ 2020 г.З...   18628  "
      ]
     },
     "execution_count": 206,
     "metadata": {},
     "output_type": "execute_result"
    }
   ],
   "source": [
    "df[df.doc==doc_full[doc_full['type_pred']!=doc_full['type_true']].doc.values[0]]"
   ]
  },
  {
   "cell_type": "code",
   "execution_count": 204,
   "id": "ad60f546-d374-4f6b-aa80-6d54397232c3",
   "metadata": {
    "collapsed": true,
    "jupyter": {
     "outputs_hidden": true
    },
    "tags": []
   },
   "outputs": [
    {
     "data": {
      "text/plain": [
       "array(['\\n\\n                                Договор № __\\n\\n\\nг. Москва                                           «__» _________ 2020 г.\\n\\nЗаказчик: ООО «Компания Заказчика» в лице генерального директора Фамилия\\nИмя Отчество, действующего на основании устава,\\n\\nИсполнитель: ООО «Компания Исполнителя», в лице генерального директора\\nФамилия Имя Отчество, действующего на основании устава,\\n\\nсовместно именуемые Стороны, заключили договор (далее — Договор) о\\nследующем:\\n\\n      Предмет Договора\\n\\n   1. Исполнитель обязуется выполнять работы и оказывать услуги по заданиям\\n      Заказчика, а Заказчик обязуется принимать и оплачивать их.\\n\\n      Заказы\\n\\n   2. Договор является рамочным. Стороны согласуют объём, срок и порядок\\n      выполнения заданий путём подписания заказов к Договору (далее —\\n      Заказы).\\n   3. Заказчик вправе изменять задание по Договору. При этом Исполнитель\\n      вправе изменить стоимость и срок выполнения задания. Стороны оформляют\\n      такие изменения с помощью дополнительного соглашения.\\n   4. Если стоимость работ/услуг меньше 10 000 (десяти тысяч) рублей,\\n      Стороны могут оформить задание без подписания Заказа.  В этом случае\\n      задание считается согласованным Сторонами, если Заказчик оплатил счёт\\n      Исполнителя, в котором содержится перечень работ/услуг, их стоимость и\\n      срок выполнения.\\n\\n      Материалы\\n\\n   5. Заказчик обязан предоставлять Исполнителю информацию и материалы\\n      (далее — Материалы), необходимые для выполнения задания. Материалы\\n      должны быть достоверными и полностью отвечать запросу Исполнителя.\\n   6. Если Заказом не предусмотрено иное, Заказчик обязан предоставить\\n      Исполнителю Материалы в течение 1 (одного) рабочего дня после\\n      получения запроса.\\n   7. Заказчик вправе отказать Исполнителю в предоставлении Материалов, если\\n      посчитает, что Материалы не нужны для выполнения Заказа. Отказ должен\\n      быть оформлен в письменном виде.\\n   8. При отказе Заказчика от предоставления Материалов Исполнитель обязан\\n      выполнять задание, исходя из имеющейся информации. Риск ненадлежащего\\n      выполнения задания из-за отсутствия информации у Исполнителя несёт\\n      Заказчик.\\n\\n\\n      Представители и субподрядчики\\n\\n   9. Стороны назначают своих представителей для решения вопросов,\\n      возникающих по Договору (далее — Представители).\\n  10. Стороны указывают контактные данные Представителей по конкретным\\n      работам/ услугам в соответствующем Заказе.\\n  11. Сторона вправе учитывать только информацию, поступившую от\\n      Представителя другой Стороны. Сторона вправе игнорировать информацию\\n      от других лиц или просить Представителей подтвердить её.\\n  12. Исполнитель вправе привлекать для выполнения работ/услугтретьих лиц\\n      без согласования с Заказчиком. При этом Исполнитель несёт перед\\n      Заказчиком ответственность за качество работ/услуг привлеченных лиц.\\n\\n      Финансовые условия\\n\\n  13. Стороны согласуют стоимость работ/услуг и порядок расчётов по Договору\\n      в Заказе.\\n  14. Стоимость работ/услуг по Договору не облагается НДС в связи с\\n      применением Исполнителем упрощённой схемы налогообложения.\\n  15. Расчёты по Договору производятся в рублях путем перечисления денежных\\n      средств на расчётный счёт Стороны, указанный в реквизитах Договора.\\n  16. Обязательства по оплате считаются выполненными с момента поступления\\n      денежных средств на корреспондентский счёт банка получателя.\\n\\n      Сдача и приёмка\\n\\n  17. После выполнения работ/услуг по Заказу Исполнитель направляет\\n      Заказчику:\\n      ● результат работ/услуг (далее — Результат);\\n      ● акт сдачи-приёмки (далее — Акт).\\n\\n  18. В течение 5 (пяти) дней с момента получения Акта Заказчик обязуется\\n      принять Результат, подписав Акт и передав его Исполнителю, или\\n      направить мотивированный отказ, сообщив Исполнителю о необходимости\\n      исправлений.\\n         1. Под исправлениями Стороны понимают приведение Результата в\\n            соответствие с требованиями задании.\\n         2. Доработка результата, исходя из новых данных и требований\\n            Заказчика, которые не были указаны в задании, не является\\n            исправлением. Такие доработки выполняются только за отдельную\\n            плату на основании отдельного задания.\\n  19. Стороны согласуют объём и срок исправлений в акте об исправлениях.\\n      Исполнитель вносит исправления за свой счёт. Срок исправлений входит в\\n      общий срок выполнения задания.\\n  20. Если по истечении установленного для приёмки срока Исполнитель не\\n      получит подписанный Акт или мотивированный отказ, Задание считается\\n      выполненным надлежащим образом и принятыми Заказчиком в полном объёме.\\n  21. Заказ может предусматривать:\\n      ● отчёт об оказании услуг вместо Результата;\\n      ● несколько этапов выполнения задания и промежуточные Акты;\\n      ● иные особенности сдачи-приёмки работ/услуг.\\n      В этом случае Стороны применяют положения данного раздела с учётом\\n      содержания конкретного Заказа.\\n\\n      Интеллектуальная собственность\\n\\n  22. Если в ходе выполнения работ или оказания услуг Исполнитель создаст\\n      результат интеллектуальной деятельности (далее — РИД), Исполнитель\\n      обязан передать Заказчику исключительное право на него.\\n  23. Исключительное право на РИД переходит к Заказчику с момента\\n      наступления последнего из следующих событий:\\n      ● стороны подписали Акт к Заказу, в рамках которого создан РИД;\\n      ● Заказчик в полном объёме оплатил стоимость работ/услуг, в рамках\\n        которых создан РИД.\\n\\n  24. Вознаграждение Исполнителя за отчуждение исключительного права на РИД\\n      включено в стоимость работ/услуг.\\n  25. Заказчик гарантирует, что имеет все необходимые права на\\n      предоставление и использование Материалов, которые передаёт\\n      Исполнителю для выполнения Задания.\\n  26. Стоимость работ/услуг не включает стоимость прав на использование\\n      Материалов, которые Заказчик должен получить у третьих лиц. Заказчик\\n      обязан получить права на использование Материалов до передачи их\\n      Исполнителю.\\n  27. Исполнитель гарантирует, что факт отчуждения РИД не нарушает права\\n      третьих лиц и на момент передачи не существует обстоятельств, дающих\\n      возможность третьим лицам предъявить к Заказчику претензии в отношении\\n      РИД.\\n  28. Стороны могут предусматривать в Заказах особенности взаимодействия в\\n      отношении интеллектуальной собственности.\\n\\n      Конфиденциальная информация\\n\\n  29. Стороны признают конфиденциальной и обязуются не разглашать следующую\\n      информацию:\\n      ● содержание Договора и Заказов;\\n      ● Материалы;\\n      ● переписку по Договору, если она помечена грифом «конфиденциально».\\n\\n  30. Конфиденциальной информацией не считаются: общедоступная информация;\\n      информация, подлежащая представлению в государственные органы в силу\\n      предписаний законодательства; информация, ставшая известной Стороне из\\n      других источников до или после получения от другой Стороны.\\n  31. Исполнитель вправе передавать конфиденциальную информацию по Договору\\n      своим сотрудникам и подрядчикам, которые участвуют в выполнении\\n      Задания.\\n  32. Исполнитель обязан обеспечить режим конфиденциальности при передаче\\n      информации своим сотрудникам и подрядчикам, в том числе путем введения\\n      режима коммерческой тайны.\\n  33. Исполнитель вправе упоминать в своих презентационных и рекламных\\n      материалах:\\n      ● наименование Заказчика;\\n      ● товарный знак Заказчика;\\n      ● перечень работ/услуг по Заказам и Результаты.\\n      Эти сведения не являются конфиденциальной информацией.\\n\\n      Ответственность\\n\\n  34. При несвоевременном и/или ненадлежащем выполнении Заказчиком принятых\\n      обязательств, сроки выполнения работ/услуг по Договору автоматически\\n      увеличиваются на срок задержки выполнения Заказчиком своих\\n      обязательств.\\n  35. Если Исполнитель нарушает срок выполнения своих обязательств по\\n      Договору, Заказчик вправе потребовать пени в размере 0,1% (одной\\n      десятой) процента за каждый рабочий день просрочки, но не более 30%\\n      (тридцати) процентов от стоимости работ/услуг в рамках Заказа.\\n  36. Если Заказчик нарушает срок оплаты, Исполнитель имеет право\\n      потребовать пени в размере 0,1% (одной десятой) процента за\\n      каждый\\xa0рабочий день просрочки, но не более 30% (тридцати) процентов от\\n      стоимости работ/услуг в рамках Заказа.\\n  37. Пени должны быть выплачены в течение 5 (пяти) рабочих дней после\\n      получения требования.\\n  38. Если Исполнитель отказывается от выплаты пени, Заказчик вправе\\n      удержать их из следующей оплаты. Если Заказчик отказывается от выплаты\\n      пени, Исполнитель вправе приостановить выполнение Заказа.\\n  39. При разглашении конфиденциальной информации Сторона-нарушитель должна\\n      возместить реальный ущерб, нанесённый другой (пострадавшей) Стороне,\\n      но не более стоимости работ/услуг в рамках Заказа.\\n  40. Ответственность Сторон ограничена стоимостью работ/услуги по Заказу, в\\n      рамках которого допущено нарушение.\\n\\n      Обстоятельства непреодолимой силы\\n\\n  41. Ни одна из Сторон не будет нести ответственность за полное или\\n      частичное неисполнение своих обязательств по Договору, если оно будет\\n      следствием обстоятельств непреодолимой силы (далее — Обстоятельства):\\n      пожар, наводнение, землетрясение и другие стихийные бедствия, военные\\n      операции, блокады, пандемия, ограничения экономического и\\n      политического характера, которые Стороны не могли предвидеть и/или\\n      предотвратить.\\n  42. Сторона, которая не может исполнить обязательства из-за наступления\\n      Обстоятельств, имеет право отложить исполнение на срок не более 30\\n      (тридцати) календарных дней. При этом она должна не позднее 2 (двух)\\n      календарных дней с момента наступления Обстоятельств:\\n      ● сообщить об этом другой Стороне;\\n      ● документально подтвердить наступление Обстоятельств;\\n      ● назвать новый предполагаемый срок исполнения обязательств.\\n      Если это не будет сделано, Сторона не имеет права ссылаться на\\n      Обстоятельства для освобождения от ответственности за неисполнение\\n      обязательств.\\n  43. Если Обстоятельства и/или их последствия действуют более 30 (тридцати)\\n      календарных дней, Стороны должны договориться о приемлемом способе\\n      исполнения обязательств или расторжении Договора.\\n\\n      Споры\\n\\n  44. При возникновения разногласий Стороны обязуются урегулировать их в\\n      досудебном порядке путём направления письменной претензии. Ответ на\\n      претензию предоставляется в срок не более 30 (тридцать) календарных\\n      дней с момента получения претензии.\\n  45. При невозможности досудебного урегулирования спора Стороны обращаются\\n      в Арбитражный суд г. Москвы.\\n\\n      Документооборот и коммуникации\\n\\n  46. Стороны признают надлежащим подписание Договора, Заказов, Актов,\\n      Дополнительных соглашений к нему путем обмена отсканированными копиями\\n      по электронной почте.\\n  47. Стороны признают надлежащим согласование всех текущих рабочих вопросов\\n      в связи с исполнением Договора, в том числе направление писем,\\n      запросов, и других сообщений, по электронной почте.\\n  48. Адреса электронной почты Сторон:\\n      Заказчик: ____________________\\n      Исполнитель: ________________\\n  49. При изменении своих реквизитов, указанных в Договоре, Сторона\\n      обязуется уведомить об этом другую Сторону в течение 3 (трёх) рабочих\\n      дней. В случае неуведомления нарушившая Сторона несёт риск\\n      последствий, связанных с направлением информации или платежей по\\n      некорректным реквизитам и обязана компенсировать последствия другой\\n      Стороне.\\n\\n      Срок действия и условия расторжения\\n\\n  50. Договор вступает в силу с даты его подписания обеими Сторонами и\\n      заключается на неопределённый срок.\\n  51. Сторона вправе отказаться от Договора в одностороннем порядке,\\n      письменно уведомив другую Сторону не позднее 30 (тридцати) календарных\\n      дней до даты расторжения.\\n  52. При расторжении Договора Стороны производят взаиморасчёты. Исполнитель\\n      направляет Заказчику акт сверки с указанием выполненных, но не\\n      закрытых Актами, работ/услуг по Заказам. Акт сверки согласуется по\\n      правилам, предусмотренным для подписания Актов.\\n  53. Если объём выполненных работ/услуг к моменту расторжения Договора\\n      меньше, чем размер полученной предоплаты, Исполнитель производит\\n      возврат излишка.\\n  54. Если объём выполненных работ/услуг к моменту расторжения Договора\\n      больше, чем размер полученной предоплаты, Заказчик производит доплату\\n      Исполнителю.\\n\\n\\n      Реквизиты и подписи\\n\\n|Заказчик                          |Исполнитель                             |\\n|Наименование организации          |Наименование организации                |\\n|Юридический адрес                 |Юридический адрес                       |\\n|ИНН                               |ИНН                                     |\\n|КПП                               |КПП                                     |\\n|Наименование банка                |Наименование банка                      |\\n|Расчётный счёт                    |Расчётный счёт                          |\\n|Корреспондентский счёт            |Корреспондентский счёт                  |\\n|БИК                               |БИК                                     |\\n|                                  |                                        |\\n|                                  |                                        |\\n|                                  |                                        |\\n|                                  |                                        |\\n|                                  |                                        |\\n|                                  |                                        |\\n|                                  |                                        |\\n|                                  |                                        |\\n|                                  |                                        |\\n|__________________ ФИО            |_____________________ ФИО               |\\n|подпись                           |подпись                                 |\\n\\n\\n\\n\\nЗаказ №__ на разработку сайта\\nк договору № __ от «__» _________ 2020 г._\\n\\nЗаказчик: ООО «Компания Заказчика» в лице генерального директора Фамилия\\nИмя Отчество, действующего на основании устава ,\\n\\nИсполнитель: ООО «Компания Исполнителя», в лице генерального директора\\nФамилия Имя Отчество, действующего на основании устава,\\n\\nсовместно именуемые Стороны, подписали заказ (далее — Заказ) на выполнение\\nследующих работ (далее — Работы):\\n\\n      Термины\\n\\nВёрстка — комбинация гипертекста (чаще HTML или Hyper Text Markup\\nLanguage), картинок и кода, определяющая, как Сайт выглядит и реагирует на\\nдействия посетителей на разных устройствах и экранах.\\nДизайн — макеты страниц Сайта в формате PSD, Sketch или Figma, иллюстрации\\nи графические элементы, показывающие, как человек будет видеть Сайт.\\nДомен — уникальный адрес, по которому люди заходят на Сайт.\\nКонтент — информационное наполнение Сайта: тексты, иллюстрации, видео.\\nМатериалы — информация и материалы, необходимые для выполнения Задания.\\nПрограммный код — текст на любом языке программирования, определяющий\\nлогику работы Сайта.\\nПроект — набор документов, определяющий структуру Сайта (список страниц и\\nсвязей между ними), содержание, функционал, возможности управления.\\nСайт — совокупность страниц в едином адресном пространстве (домене),\\nсодержащих информацию в электронном виде.\\nCMS — система управления Сайтом, позволяющая изменять содержание и\\nнастройки Сайта. Например, e-mail для уведомлений о заказах или состав\\nменю.\\nЗадание — часть Заказа, определяющая требования Заказчика к Сайту, которые\\nбудут считаться критерием оценки при приёмке Результата.\\nХостинг — размещение файлов, данных и DNS Домена на сервере, имеющем доступ\\nк сети Интернет и поддержка сервисов, отвечающих за работу Сайта.\\n\\n\\n  Общие положения\\n\\n1. Наименование Работ: разработка Сайта workspace.ru.\\n2. Требования к Результату согласованы Сторонами в Задании.\\n3. Исполнитель выполняет Работы поэтапно. По окончании каждого этапа\\n   Стороны подписывают промежуточный Акт по правилам Договора.\\n\\n\\n\\n\\n1. Этапы, сроки и стоимость выполнения Работ\\n\\n|№ |Этап            |Описание этапа    |Срок, рабочие дни |Стоимость      |\\n|1 |Концепция       |Исполнитель       |5 (пять) дней с   |30 000         |\\n|  |дизайна         |создает дизайн    |момента подписания|(тридцать      |\\n|  |                |ключевых страниц и|Заказа и получения|тысяч) рублей  |\\n|  |                |элементов Сайта на|согласованных в   |               |\\n|  |                |основании Задания |Заказе Материалов |               |\\n|2 |Дизайн          |На основе         |25 (двадцать пять)|50 000         |\\n|  |                |согласованной     |дней после        |(пятьдесят     |\\n|  |                |концепции дизайна |подписания Акта и |тысяч) рублей  |\\n|  |                |Исполнитель       |полной оплаты по  |               |\\n|  |                |создаёт дизайн    |этапу 1           |               |\\n|  |                |всех страниц Сайта|                  |               |\\n|3 |Вёрстка         |На основе         |15 (пятнадцать)   |45 000 (сорок  |\\n|  |                |согласованного    |дней после        |пять тысяч)    |\\n|  |                |дизайна           |подписания Акта и |рублей         |\\n|  |                |Исполнитель       |полной оплаты по  |               |\\n|  |                |выполняет вёрстку |этапу 2           |               |\\n|  |                |Сайта             |                  |               |\\n|4 |Программирование|На основе         |40 (сорок) дней   |70 000         |\\n|  |                |согласованных     |после подписания  |(семьдесят     |\\n|  |                |дизайна и вёрстки |акта и полной     |тысяч) рублей  |\\n|  |                |Исполнитель       |оплаты по этапу 3 |               |\\n|  |                |выполняет         |                  |               |\\n|  |                |программирование  |                  |               |\\n|  |                |Сайта             |                  |               |\\n|5 |Размещение сайта|Исполнитель       |3 (три) дня после |10 000 (десять |\\n|  |                |проверяет функции |подписания акта и |тысяч) рублей  |\\n|  |                |Сайта, исправляет |полной оплаты по  |               |\\n|  |                |ошибки и переносит|этапу 4           |               |\\n|  |                |Сайт на хостинг   |                  |               |\\n|  |                |Заказчика         |                  |               |\\n\\n\\nЗаказчик оплачивает каждый этап работ в следующем порядке:\\n   1. До начала работ по этапу — 50% от стоимости этапа (предоплата).\\n   2. В течение 5 (пяти) рабочий дней с даты подписания акта сдачи-приёмки\\n      работ по этапу — оставшиеся 50% от стоимости этапа.\\n\\n2. Гарантийные обязательства\\n\\n1. Гарантийное обслуживание включает в себя диагностику и устранение ошибок\\n   в работе Cайта, препятствующих его функционированию так, как это\\n   предусмотрено Заданием.\\n2. Период гарантийного обслуживания: 60 календарных дней с момента\\n   подписания последнего Акта по Заказу.\\n3. Исполнитель выполняет гарантийное обслуживание на основании письменных\\n   заявков Заказчика по электронной почте.\\n4. В течение 3 (трёх) рабочих дней с момента получения заявки Исполнитель\\n   направляет Заказчику оценку срока устранения ошибок и приступает к\\n   выполнению.\\n5. Срок устранения ошибок не может превышать 15 (пятнадцать) дней с момента\\n   получения заявки.\\n6. Гарантия не распространяется на неисправности, возникающие не по вине\\n   Исполнителя, в том числе, вследствие ошибок и/или несоблюдения\\n   инструкций по обслуживанию сайта, допущенных сотрудниками/подрядчиками\\n   Заказчика.\\n7. Исполнитель не\\xa0несёт ответственности за\\xa0некорректную работу Сайта, если\\n   после передачи  результата работ Заказчик самостоятельно и/или\\n   с\\xa0привлечением третьих лиц\\xa0производил изменения, которые повлияли на\\n   работу Сайта.\\n8. Гарантийным случаем не признается некорректная работа Сайта с\\n   операционными системами, программами и устройствами, если они выпущены\\n   после передачи результатов всех работ Заказчику и их требования к\\n   корректной работе не соответствуют параметрам Сайта.\\n9. Заказчик вправе потребовать пени в размере 1% (одного) процента за\\n   каждый день просрочки, но не больше 30% (тридцати) процентов стоимости\\n   работ по Заказу если Исполнитель отказывается устранять ошибки по\\n   основаниям, не предусмотренным Заказом, или нарушает срок устранения\\n   ошибок.\\n\\n3. Интеллектуальная собственность Исполнителя\\n\\n1. Исполнитель является правообладателем виджета «Калькулятор» (далее —\\n   Калькулятор), который будет размещён на Сайте.\\n2. Исполнитель предоставляет Заказчику неисключительную лицензию на\\n   использование Калькулятора в составе Сайта в течение срока действия\\n   авторских прав без ограничения по территории.\\n3. Лицензионное вознаграждение за использование Калькулятора входит в\\n   состав стоимости работ по Заказу.\\n4. Заказчик не вправе предоставлять сублицензию на Калькулятор и\\n   использовать Калькулятор вне Сайта.\\n\\n4. Прочие условия\\n\\n1. Представители Сторон:\\n    ● Со стороны Заказчика: ФИО, контактный телефон, адрес электронной\\n      почты.\\n    ● Со стороны Исполнителя: ФИО, контактный телефон, адрес электронной\\n      почты.\\n2. Исполнитель имеет право разместить на Сайте ссылку на свой сайт\\n   http://proactivity.ru/  с указанием, что он является разработчиком\\n   Сайта.\\n\\n\\n\\n\\n\\n\\nЗадание к заказу №__ на разработку Сайта\\nк договору № __ от «__» _________ 2020 г._\\n\\n\\nЗадача\\n\\nНеобходимо разработать корпоративный сайт для компании, оказывающей\\nюридические услуги компаниям и физическим лицам.\\n\\nСайт должен содержать:\\n   1. рассказ про все услуги;\\n   2. информацию о компании;\\n   3. контактную информацию;\\n   4. отзывы клиентов;\\n   5. …\\n\\nСайт должен позволять посетителю:\\n   1. оценить уровень компании;\\n   2. узнать цену на каждую услугу;\\n   3. оформить заявку на услуги;\\n   4. связаться с компанией в рабочие и нерабочие часы;\\n   5. оставить отзыв о компании;\\n   6. …\\n\\nТребования\\n\\n   1. Сайт должен быть разработан на CMS Wordpress или Bitrix.\\n   2. Заказчик должен иметь возможность менять Контент с помощью CMS без\\n      привлечения Исполнителя.\\n   3. Все страницы Сайта должны индексироваться поисковыми роботами Google,\\n      Рамблер и Яндекс.\\n\\n\\n\\n'],\n",
       "      dtype=object)"
      ]
     },
     "execution_count": 204,
     "metadata": {},
     "output_type": "execute_result"
    }
   ],
   "source": [
    "df[df.doc==doc_full[doc_full['type_pred']!=doc_full['type_true']].doc.values[0]].original_text.values"
   ]
  },
  {
   "cell_type": "code",
   "execution_count": 211,
   "id": "0b25ea0c-56ce-4adc-959b-9fd01607d7b7",
   "metadata": {},
   "outputs": [],
   "source": [
    "# Итог:\n",
    "# Модель допустила одну ошибку, спутав класс вышеуказанного договора.\n",
    "# Предсказанный класс: Договор подрядра.\n",
    "# Рельно размеченный класс: Договор оказания услуг.\n",
    "\n",
    "# Исходя из вышеизложенного текста договора, создание сайта можно отнести как к категории договора, \n",
    "# так и к категории подряда. Формулировки абзацев очень сильно схожи для этих двух тем, как и направление деятельности.\n",
    "# Создание сайта можно рассматривать и как \"подряд\", и как \"оказание услуги\". \n",
    "\n",
    "# Таким образом можно сделать вывод что алгоритм показал 100% точность на текущих данных."
   ]
  },
  {
   "cell_type": "code",
   "execution_count": 252,
   "id": "3c0b7929-c693-40e0-9cd7-cf4ca4dd7ac7",
   "metadata": {},
   "outputs": [],
   "source": [
    "classes_dict = {0:'Договоры поставки',\n",
    " 1: 'Договоры оказания услуг',\n",
    " 2: 'Договоры подряда',\n",
    " 3: 'Договоры аренды',\n",
    " 4: 'Договоры купли-продажи'}\n",
    "\n",
    "submit_data = {'submit_data':[]}\n",
    "for i,d in doc_full.iterrows():\n",
    "    submit_doc = {}\n",
    "    submit_doc['doc'] = d.doc\n",
    "    submit_doc['class'] = classes_dict.get(d.type_pred)\n",
    "    submit_doc['confidence_level'] = d.pred_confidence\n",
    "    submit_doc['interpretation']=sentences[sentences.doc==d.doc].sort_values(by='type_pred_proba',ascending=False).iloc[:3].text.values.tolist()\n",
    "    submit_data['submit_data'].append(submit_doc)"
   ]
  },
  {
   "cell_type": "code",
   "execution_count": 253,
   "id": "f25a994e-1d92-42c5-9442-5d1965d8856a",
   "metadata": {},
   "outputs": [],
   "source": [
    "import json\n",
    "\n",
    "with open('PYC_submit.json','w') as f:\n",
    "    json.dump(submit_data,f)"
   ]
  },
  {
   "cell_type": "code",
   "execution_count": null,
   "id": "81759744-3695-43dc-b471-0d31777eea9d",
   "metadata": {},
   "outputs": [],
   "source": []
  }
 ],
 "metadata": {
  "kernelspec": {
   "display_name": "Python 3 (ipykernel)",
   "language": "python",
   "name": "python3"
  },
  "language_info": {
   "codemirror_mode": {
    "name": "ipython",
    "version": 3
   },
   "file_extension": ".py",
   "mimetype": "text/x-python",
   "name": "python",
   "nbconvert_exporter": "python",
   "pygments_lexer": "ipython3",
   "version": "3.9.13"
  }
 },
 "nbformat": 4,
 "nbformat_minor": 5
}
